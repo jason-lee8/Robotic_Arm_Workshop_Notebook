{
  "nbformat": 4,
  "nbformat_minor": 0,
  "metadata": {
    "colab": {
      "provenance": [],
      "collapsed_sections": [
        "86facpbY7Fx4"
      ]
    },
    "kernelspec": {
      "name": "python3",
      "display_name": "Python 3"
    },
    "language_info": {
      "name": "python"
    },
    "widgets": {
      "application/vnd.jupyter.widget-state+json": {
        "befc7e6f44f546e380df84ec7e4c7594": {
          "model_module": "@jupyter-widgets/controls",
          "model_name": "VBoxModel",
          "model_module_version": "1.5.0",
          "state": {
            "_dom_classes": [
              "widget-interact"
            ],
            "_model_module": "@jupyter-widgets/controls",
            "_model_module_version": "1.5.0",
            "_model_name": "VBoxModel",
            "_view_count": null,
            "_view_module": "@jupyter-widgets/controls",
            "_view_module_version": "1.5.0",
            "_view_name": "VBoxView",
            "box_style": "",
            "children": [
              "IPY_MODEL_589b78552a2d41f0908afae3169ec9ff",
              "IPY_MODEL_ee6d7455a194412fb64daed457fbced9"
            ],
            "layout": "IPY_MODEL_f5ff2a0d99f84154b0e0946bb90014ad"
          }
        },
        "589b78552a2d41f0908afae3169ec9ff": {
          "model_module": "@jupyter-widgets/controls",
          "model_name": "IntSliderModel",
          "model_module_version": "1.5.0",
          "state": {
            "_dom_classes": [],
            "_model_module": "@jupyter-widgets/controls",
            "_model_module_version": "1.5.0",
            "_model_name": "IntSliderModel",
            "_view_count": null,
            "_view_module": "@jupyter-widgets/controls",
            "_view_module_version": "1.5.0",
            "_view_name": "IntSliderView",
            "continuous_update": true,
            "description": "angle",
            "description_tooltip": null,
            "disabled": false,
            "layout": "IPY_MODEL_b0516c0809b946f39573f9d8ad1b9224",
            "max": 180,
            "min": -180,
            "orientation": "horizontal",
            "readout": true,
            "readout_format": "d",
            "step": 2,
            "style": "IPY_MODEL_3d888be29c024ae286e35b05d014dccb",
            "value": 0
          }
        },
        "ee6d7455a194412fb64daed457fbced9": {
          "model_module": "@jupyter-widgets/output",
          "model_name": "OutputModel",
          "model_module_version": "1.0.0",
          "state": {
            "_dom_classes": [],
            "_model_module": "@jupyter-widgets/output",
            "_model_module_version": "1.0.0",
            "_model_name": "OutputModel",
            "_view_count": null,
            "_view_module": "@jupyter-widgets/output",
            "_view_module_version": "1.0.0",
            "_view_name": "OutputView",
            "layout": "IPY_MODEL_7f49567520c24dbd93cd069ff41bd68f",
            "msg_id": "",
            "outputs": [
              {
                "output_type": "display_data",
                "data": {
                  "text/plain": "<Figure size 1152x576 with 1 Axes>",
                  "image/png": "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\n"
                },
                "metadata": {
                  "needs_background": "light"
                }
              },
              {
                "output_type": "display_data",
                "data": {
                  "text/plain": "[4.0, 0.0]",
                  "image/png": "iVBORw0KGgoAAAANSUhEUgAAAGEAAAAVCAYAAABWtYB0AAAABHNCSVQICAgIfAhkiAAAAstJREFUWIXt2UFrVUcUB/BfJIJUJQrSlaIlaJqFgkUaQUVtQVz6ARQUXFWICzeiaF4WgptqIiqCqG1ddVnFjVDaiq1+A7VFiAquFFvUqFi0i7mX3Lzcl9x737z3pOYPl3nvnpnzP+fOnJk5M121Ws0sOos5md9b8D7z3O2EQf9jLDH5+75PBXNyKv+GYZyeQenOjLK9FYxaiot4jDcYwwgWV9DVKd4yusaF7zqMB1lBd07lX1GbgXyZ0EkvsKCwyRPoxR/4FD8JUfcl9mM7NuBpBb3t5C2ra9zEd92C5akgLxJmQhcuJQTnKrSHs4Lxg9iBg/gKJ9GHYxX1tpM3mq4qnTCYkO3Bywrte7FNCN0zdbKhROcuzK+gu128UX0o2wn9OI5R3CjZNsXWpLyOd3Wy5/gdn2B9Rf3t4I3qQ5lO6MZlPMShEu3q0ZeUfzaQ/5WUq5rgaDVvVB/yFuZGOIq12IhXJdrVoycp/2kgT98vaoKj1bxRfSgaCQPC6P8Wtwq2mUVBFOmEbvwghN6RCJzpKOlpIE/f/x2Bq1W8UX0o0gkLhLmtH69NzviGkjrnk/8jBfTdS8pG8+XKpGw031ZFTN6oPhRZE97gQgPZF8I6cTMxrMhU9UtSbhMGQXZ3sVBIcsZxu4CuMojJG9WHIpHwSjiWyHuuJHW+T/7/WNe2F59jbubdfWFrtwL76uoPC3vry6bmIN8J0ba7gM15qMob04dclNkdVcHPQnr+mZDYpPhGSPlP4WvcERb/rUIIH87RlQ6Yf5uwpwpvTB9yUSVjjoH7WCeM7gEcEEbcqJDg5J3frBYSoWtt5m25rmYjoWb6w74V08geCUcfRbAIa4Qt8rOCbWLwEs+HhsiLhCEf3n3CJrzFiU4b0gSy9wmbs4JsJIwJi0qKJy03qziuYl6njWgS6X3CFNR3Qq0NxnysyN4nTEKnFuZZZPAfNWfZslhRJC4AAAAASUVORK5CYII=\n",
                  "text/latex": "$\\displaystyle \\left[ 4.0, \\  0.0\\right]$"
                },
                "metadata": {}
              }
            ]
          }
        },
        "f5ff2a0d99f84154b0e0946bb90014ad": {
          "model_module": "@jupyter-widgets/base",
          "model_name": "LayoutModel",
          "model_module_version": "1.2.0",
          "state": {
            "_model_module": "@jupyter-widgets/base",
            "_model_module_version": "1.2.0",
            "_model_name": "LayoutModel",
            "_view_count": null,
            "_view_module": "@jupyter-widgets/base",
            "_view_module_version": "1.2.0",
            "_view_name": "LayoutView",
            "align_content": null,
            "align_items": null,
            "align_self": null,
            "border": null,
            "bottom": null,
            "display": null,
            "flex": null,
            "flex_flow": null,
            "grid_area": null,
            "grid_auto_columns": null,
            "grid_auto_flow": null,
            "grid_auto_rows": null,
            "grid_column": null,
            "grid_gap": null,
            "grid_row": null,
            "grid_template_areas": null,
            "grid_template_columns": null,
            "grid_template_rows": null,
            "height": null,
            "justify_content": null,
            "justify_items": null,
            "left": null,
            "margin": null,
            "max_height": null,
            "max_width": null,
            "min_height": null,
            "min_width": null,
            "object_fit": null,
            "object_position": null,
            "order": null,
            "overflow": null,
            "overflow_x": null,
            "overflow_y": null,
            "padding": null,
            "right": null,
            "top": null,
            "visibility": null,
            "width": null
          }
        },
        "b0516c0809b946f39573f9d8ad1b9224": {
          "model_module": "@jupyter-widgets/base",
          "model_name": "LayoutModel",
          "model_module_version": "1.2.0",
          "state": {
            "_model_module": "@jupyter-widgets/base",
            "_model_module_version": "1.2.0",
            "_model_name": "LayoutModel",
            "_view_count": null,
            "_view_module": "@jupyter-widgets/base",
            "_view_module_version": "1.2.0",
            "_view_name": "LayoutView",
            "align_content": null,
            "align_items": null,
            "align_self": null,
            "border": null,
            "bottom": null,
            "display": null,
            "flex": null,
            "flex_flow": null,
            "grid_area": null,
            "grid_auto_columns": null,
            "grid_auto_flow": null,
            "grid_auto_rows": null,
            "grid_column": null,
            "grid_gap": null,
            "grid_row": null,
            "grid_template_areas": null,
            "grid_template_columns": null,
            "grid_template_rows": null,
            "height": null,
            "justify_content": null,
            "justify_items": null,
            "left": null,
            "margin": null,
            "max_height": null,
            "max_width": null,
            "min_height": null,
            "min_width": null,
            "object_fit": null,
            "object_position": null,
            "order": null,
            "overflow": null,
            "overflow_x": null,
            "overflow_y": null,
            "padding": null,
            "right": null,
            "top": null,
            "visibility": null,
            "width": null
          }
        },
        "3d888be29c024ae286e35b05d014dccb": {
          "model_module": "@jupyter-widgets/controls",
          "model_name": "SliderStyleModel",
          "model_module_version": "1.5.0",
          "state": {
            "_model_module": "@jupyter-widgets/controls",
            "_model_module_version": "1.5.0",
            "_model_name": "SliderStyleModel",
            "_view_count": null,
            "_view_module": "@jupyter-widgets/base",
            "_view_module_version": "1.2.0",
            "_view_name": "StyleView",
            "description_width": "",
            "handle_color": null
          }
        },
        "7f49567520c24dbd93cd069ff41bd68f": {
          "model_module": "@jupyter-widgets/base",
          "model_name": "LayoutModel",
          "model_module_version": "1.2.0",
          "state": {
            "_model_module": "@jupyter-widgets/base",
            "_model_module_version": "1.2.0",
            "_model_name": "LayoutModel",
            "_view_count": null,
            "_view_module": "@jupyter-widgets/base",
            "_view_module_version": "1.2.0",
            "_view_name": "LayoutView",
            "align_content": null,
            "align_items": null,
            "align_self": null,
            "border": null,
            "bottom": null,
            "display": null,
            "flex": null,
            "flex_flow": null,
            "grid_area": null,
            "grid_auto_columns": null,
            "grid_auto_flow": null,
            "grid_auto_rows": null,
            "grid_column": null,
            "grid_gap": null,
            "grid_row": null,
            "grid_template_areas": null,
            "grid_template_columns": null,
            "grid_template_rows": null,
            "height": null,
            "justify_content": null,
            "justify_items": null,
            "left": null,
            "margin": null,
            "max_height": null,
            "max_width": null,
            "min_height": null,
            "min_width": null,
            "object_fit": null,
            "object_position": null,
            "order": null,
            "overflow": null,
            "overflow_x": null,
            "overflow_y": null,
            "padding": null,
            "right": null,
            "top": null,
            "visibility": null,
            "width": null
          }
        },
        "738c681face6408c9afbe0bbe5b1e8c3": {
          "model_module": "@jupyter-widgets/controls",
          "model_name": "VBoxModel",
          "model_module_version": "1.5.0",
          "state": {
            "_dom_classes": [
              "widget-interact"
            ],
            "_model_module": "@jupyter-widgets/controls",
            "_model_module_version": "1.5.0",
            "_model_name": "VBoxModel",
            "_view_count": null,
            "_view_module": "@jupyter-widgets/controls",
            "_view_module_version": "1.5.0",
            "_view_name": "VBoxView",
            "box_style": "",
            "children": [
              "IPY_MODEL_c7edabdf01604d708a461b092ccdd6b8",
              "IPY_MODEL_a3b5aac1d0b44efcb7f6ac0111b51482"
            ],
            "layout": "IPY_MODEL_2da716e518254cd59439c6cc8bd970ee"
          }
        },
        "c7edabdf01604d708a461b092ccdd6b8": {
          "model_module": "@jupyter-widgets/controls",
          "model_name": "IntSliderModel",
          "model_module_version": "1.5.0",
          "state": {
            "_dom_classes": [],
            "_model_module": "@jupyter-widgets/controls",
            "_model_module_version": "1.5.0",
            "_model_name": "IntSliderModel",
            "_view_count": null,
            "_view_module": "@jupyter-widgets/controls",
            "_view_module_version": "1.5.0",
            "_view_name": "IntSliderView",
            "continuous_update": true,
            "description": "angle",
            "description_tooltip": null,
            "disabled": false,
            "layout": "IPY_MODEL_c222a6a7058243f1a6b5f6c49cc61824",
            "max": 180,
            "min": -180,
            "orientation": "horizontal",
            "readout": true,
            "readout_format": "d",
            "step": 2,
            "style": "IPY_MODEL_7a2190be7f2b481d933e71d8a800821d",
            "value": 0
          }
        },
        "a3b5aac1d0b44efcb7f6ac0111b51482": {
          "model_module": "@jupyter-widgets/output",
          "model_name": "OutputModel",
          "model_module_version": "1.0.0",
          "state": {
            "_dom_classes": [],
            "_model_module": "@jupyter-widgets/output",
            "_model_module_version": "1.0.0",
            "_model_name": "OutputModel",
            "_view_count": null,
            "_view_module": "@jupyter-widgets/output",
            "_view_module_version": "1.0.0",
            "_view_name": "OutputView",
            "layout": "IPY_MODEL_b56c14bf30894c40a7bacb466be51a26",
            "msg_id": "",
            "outputs": [
              {
                "output_type": "display_data",
                "data": {
                  "text/plain": "<Figure size 1152x576 with 1 Axes>",
                  "image/png": "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\n"
                },
                "metadata": {
                  "needs_background": "light"
                }
              }
            ]
          }
        },
        "2da716e518254cd59439c6cc8bd970ee": {
          "model_module": "@jupyter-widgets/base",
          "model_name": "LayoutModel",
          "model_module_version": "1.2.0",
          "state": {
            "_model_module": "@jupyter-widgets/base",
            "_model_module_version": "1.2.0",
            "_model_name": "LayoutModel",
            "_view_count": null,
            "_view_module": "@jupyter-widgets/base",
            "_view_module_version": "1.2.0",
            "_view_name": "LayoutView",
            "align_content": null,
            "align_items": null,
            "align_self": null,
            "border": null,
            "bottom": null,
            "display": null,
            "flex": null,
            "flex_flow": null,
            "grid_area": null,
            "grid_auto_columns": null,
            "grid_auto_flow": null,
            "grid_auto_rows": null,
            "grid_column": null,
            "grid_gap": null,
            "grid_row": null,
            "grid_template_areas": null,
            "grid_template_columns": null,
            "grid_template_rows": null,
            "height": null,
            "justify_content": null,
            "justify_items": null,
            "left": null,
            "margin": null,
            "max_height": null,
            "max_width": null,
            "min_height": null,
            "min_width": null,
            "object_fit": null,
            "object_position": null,
            "order": null,
            "overflow": null,
            "overflow_x": null,
            "overflow_y": null,
            "padding": null,
            "right": null,
            "top": null,
            "visibility": null,
            "width": null
          }
        },
        "c222a6a7058243f1a6b5f6c49cc61824": {
          "model_module": "@jupyter-widgets/base",
          "model_name": "LayoutModel",
          "model_module_version": "1.2.0",
          "state": {
            "_model_module": "@jupyter-widgets/base",
            "_model_module_version": "1.2.0",
            "_model_name": "LayoutModel",
            "_view_count": null,
            "_view_module": "@jupyter-widgets/base",
            "_view_module_version": "1.2.0",
            "_view_name": "LayoutView",
            "align_content": null,
            "align_items": null,
            "align_self": null,
            "border": null,
            "bottom": null,
            "display": null,
            "flex": null,
            "flex_flow": null,
            "grid_area": null,
            "grid_auto_columns": null,
            "grid_auto_flow": null,
            "grid_auto_rows": null,
            "grid_column": null,
            "grid_gap": null,
            "grid_row": null,
            "grid_template_areas": null,
            "grid_template_columns": null,
            "grid_template_rows": null,
            "height": null,
            "justify_content": null,
            "justify_items": null,
            "left": null,
            "margin": null,
            "max_height": null,
            "max_width": null,
            "min_height": null,
            "min_width": null,
            "object_fit": null,
            "object_position": null,
            "order": null,
            "overflow": null,
            "overflow_x": null,
            "overflow_y": null,
            "padding": null,
            "right": null,
            "top": null,
            "visibility": null,
            "width": null
          }
        },
        "7a2190be7f2b481d933e71d8a800821d": {
          "model_module": "@jupyter-widgets/controls",
          "model_name": "SliderStyleModel",
          "model_module_version": "1.5.0",
          "state": {
            "_model_module": "@jupyter-widgets/controls",
            "_model_module_version": "1.5.0",
            "_model_name": "SliderStyleModel",
            "_view_count": null,
            "_view_module": "@jupyter-widgets/base",
            "_view_module_version": "1.2.0",
            "_view_name": "StyleView",
            "description_width": "",
            "handle_color": null
          }
        },
        "b56c14bf30894c40a7bacb466be51a26": {
          "model_module": "@jupyter-widgets/base",
          "model_name": "LayoutModel",
          "model_module_version": "1.2.0",
          "state": {
            "_model_module": "@jupyter-widgets/base",
            "_model_module_version": "1.2.0",
            "_model_name": "LayoutModel",
            "_view_count": null,
            "_view_module": "@jupyter-widgets/base",
            "_view_module_version": "1.2.0",
            "_view_name": "LayoutView",
            "align_content": null,
            "align_items": null,
            "align_self": null,
            "border": null,
            "bottom": null,
            "display": null,
            "flex": null,
            "flex_flow": null,
            "grid_area": null,
            "grid_auto_columns": null,
            "grid_auto_flow": null,
            "grid_auto_rows": null,
            "grid_column": null,
            "grid_gap": null,
            "grid_row": null,
            "grid_template_areas": null,
            "grid_template_columns": null,
            "grid_template_rows": null,
            "height": null,
            "justify_content": null,
            "justify_items": null,
            "left": null,
            "margin": null,
            "max_height": null,
            "max_width": null,
            "min_height": null,
            "min_width": null,
            "object_fit": null,
            "object_position": null,
            "order": null,
            "overflow": null,
            "overflow_x": null,
            "overflow_y": null,
            "padding": null,
            "right": null,
            "top": null,
            "visibility": null,
            "width": null
          }
        },
        "54fb806c51974eaf94e9cdec6a49890b": {
          "model_module": "@jupyter-widgets/controls",
          "model_name": "VBoxModel",
          "model_module_version": "1.5.0",
          "state": {
            "_dom_classes": [
              "widget-interact"
            ],
            "_model_module": "@jupyter-widgets/controls",
            "_model_module_version": "1.5.0",
            "_model_name": "VBoxModel",
            "_view_count": null,
            "_view_module": "@jupyter-widgets/controls",
            "_view_module_version": "1.5.0",
            "_view_name": "VBoxView",
            "box_style": "",
            "children": [
              "IPY_MODEL_d2416d6cd1174b30979ed2c788320989",
              "IPY_MODEL_873e68d11db34420ae2608931a9e3bd1",
              "IPY_MODEL_9c554e0d7b474cfcb2d70eb4a524a7ee"
            ],
            "layout": "IPY_MODEL_9c372fa5eaf742f2aa54501a9ae9b04e"
          }
        },
        "d2416d6cd1174b30979ed2c788320989": {
          "model_module": "@jupyter-widgets/controls",
          "model_name": "IntSliderModel",
          "model_module_version": "1.5.0",
          "state": {
            "_dom_classes": [],
            "_model_module": "@jupyter-widgets/controls",
            "_model_module_version": "1.5.0",
            "_model_name": "IntSliderModel",
            "_view_count": null,
            "_view_module": "@jupyter-widgets/controls",
            "_view_module_version": "1.5.0",
            "_view_name": "IntSliderView",
            "continuous_update": true,
            "description": "a1",
            "description_tooltip": null,
            "disabled": false,
            "layout": "IPY_MODEL_ce4930e57553492f948c57a027769595",
            "max": 180,
            "min": -180,
            "orientation": "horizontal",
            "readout": true,
            "readout_format": "d",
            "step": 1,
            "style": "IPY_MODEL_76f67dc50fe14db0a093ea1bb4cf3bf7",
            "value": 0
          }
        },
        "873e68d11db34420ae2608931a9e3bd1": {
          "model_module": "@jupyter-widgets/controls",
          "model_name": "IntSliderModel",
          "model_module_version": "1.5.0",
          "state": {
            "_dom_classes": [],
            "_model_module": "@jupyter-widgets/controls",
            "_model_module_version": "1.5.0",
            "_model_name": "IntSliderModel",
            "_view_count": null,
            "_view_module": "@jupyter-widgets/controls",
            "_view_module_version": "1.5.0",
            "_view_name": "IntSliderView",
            "continuous_update": true,
            "description": "a2",
            "description_tooltip": null,
            "disabled": false,
            "layout": "IPY_MODEL_c7e6129a7c324aeeb9b765e5494ecda1",
            "max": 180,
            "min": -180,
            "orientation": "horizontal",
            "readout": true,
            "readout_format": "d",
            "step": 1,
            "style": "IPY_MODEL_9e5ad79980af41caa6941e049b61891f",
            "value": 0
          }
        },
        "9c554e0d7b474cfcb2d70eb4a524a7ee": {
          "model_module": "@jupyter-widgets/output",
          "model_name": "OutputModel",
          "model_module_version": "1.0.0",
          "state": {
            "_dom_classes": [],
            "_model_module": "@jupyter-widgets/output",
            "_model_module_version": "1.0.0",
            "_model_name": "OutputModel",
            "_view_count": null,
            "_view_module": "@jupyter-widgets/output",
            "_view_module_version": "1.0.0",
            "_view_name": "OutputView",
            "layout": "IPY_MODEL_ab3c8871cd064e878b3d42ac7c7d5287",
            "msg_id": "",
            "outputs": [
              {
                "output_type": "error",
                "ename": "NameError",
                "evalue": "ignored",
                "traceback": [
                  "\u001b[0;31m---------------------------------------------------------------------------\u001b[0m",
                  "\u001b[0;31mNameError\u001b[0m                                 Traceback (most recent call last)",
                  "\u001b[0;32m/usr/local/lib/python3.8/dist-packages/ipywidgets/widgets/interaction.py\u001b[0m in \u001b[0;36mupdate\u001b[0;34m(self, *args)\u001b[0m\n\u001b[1;32m    255\u001b[0m                     \u001b[0mvalue\u001b[0m \u001b[0;34m=\u001b[0m \u001b[0mwidget\u001b[0m\u001b[0;34m.\u001b[0m\u001b[0mget_interact_value\u001b[0m\u001b[0;34m(\u001b[0m\u001b[0;34m)\u001b[0m\u001b[0;34m\u001b[0m\u001b[0;34m\u001b[0m\u001b[0m\n\u001b[1;32m    256\u001b[0m                     \u001b[0mself\u001b[0m\u001b[0;34m.\u001b[0m\u001b[0mkwargs\u001b[0m\u001b[0;34m[\u001b[0m\u001b[0mwidget\u001b[0m\u001b[0;34m.\u001b[0m\u001b[0m_kwarg\u001b[0m\u001b[0;34m]\u001b[0m \u001b[0;34m=\u001b[0m \u001b[0mvalue\u001b[0m\u001b[0;34m\u001b[0m\u001b[0;34m\u001b[0m\u001b[0m\n\u001b[0;32m--> 257\u001b[0;31m                 \u001b[0mself\u001b[0m\u001b[0;34m.\u001b[0m\u001b[0mresult\u001b[0m \u001b[0;34m=\u001b[0m \u001b[0mself\u001b[0m\u001b[0;34m.\u001b[0m\u001b[0mf\u001b[0m\u001b[0;34m(\u001b[0m\u001b[0;34m**\u001b[0m\u001b[0mself\u001b[0m\u001b[0;34m.\u001b[0m\u001b[0mkwargs\u001b[0m\u001b[0;34m)\u001b[0m\u001b[0;34m\u001b[0m\u001b[0;34m\u001b[0m\u001b[0m\n\u001b[0m\u001b[1;32m    258\u001b[0m                 \u001b[0mshow_inline_matplotlib_plots\u001b[0m\u001b[0;34m(\u001b[0m\u001b[0;34m)\u001b[0m\u001b[0;34m\u001b[0m\u001b[0;34m\u001b[0m\u001b[0m\n\u001b[1;32m    259\u001b[0m                 \u001b[0;32mif\u001b[0m \u001b[0mself\u001b[0m\u001b[0;34m.\u001b[0m\u001b[0mauto_display\u001b[0m \u001b[0;32mand\u001b[0m \u001b[0mself\u001b[0m\u001b[0;34m.\u001b[0m\u001b[0mresult\u001b[0m \u001b[0;32mis\u001b[0m \u001b[0;32mnot\u001b[0m \u001b[0;32mNone\u001b[0m\u001b[0;34m:\u001b[0m\u001b[0;34m\u001b[0m\u001b[0;34m\u001b[0m\u001b[0m\n",
                  "\u001b[0;32m<ipython-input-38-2e0ee41fb6de>\u001b[0m in \u001b[0;36mRobot_Simulator\u001b[0;34m(a1, a2)\u001b[0m\n\u001b[1;32m     33\u001b[0m     \u001b[0;31m# y2 = ...\u001b[0m\u001b[0;34m\u001b[0m\u001b[0;34m\u001b[0m\u001b[0;34m\u001b[0m\u001b[0m\n\u001b[1;32m     34\u001b[0m \u001b[0;34m\u001b[0m\u001b[0m\n\u001b[0;32m---> 35\u001b[0;31m     \u001b[0mresults\u001b[0m \u001b[0;34m=\u001b[0m \u001b[0mnp\u001b[0m\u001b[0;34m.\u001b[0m\u001b[0marray\u001b[0m\u001b[0;34m(\u001b[0m\u001b[0;34m[\u001b[0m\u001b[0;34m[\u001b[0m\u001b[0mx1\u001b[0m\u001b[0;34m,\u001b[0m \u001b[0my1\u001b[0m\u001b[0;34m]\u001b[0m\u001b[0;34m,\u001b[0m \u001b[0;34m[\u001b[0m\u001b[0mx2\u001b[0m\u001b[0;34m,\u001b[0m \u001b[0my2\u001b[0m\u001b[0;34m]\u001b[0m\u001b[0;34m]\u001b[0m\u001b[0;34m)\u001b[0m\u001b[0;34m\u001b[0m\u001b[0;34m\u001b[0m\u001b[0m\n\u001b[0m\u001b[1;32m     36\u001b[0m     \u001b[0;32mreturn\u001b[0m \u001b[0mplotMatrix\u001b[0m\u001b[0;34m(\u001b[0m\u001b[0mresults\u001b[0m\u001b[0;34m)\u001b[0m\u001b[0;34m\u001b[0m\u001b[0;34m\u001b[0m\u001b[0m\n\u001b[1;32m     37\u001b[0m \u001b[0;34m\u001b[0m\u001b[0m\n",
                  "\u001b[0;31mNameError\u001b[0m: name 'x1' is not defined"
                ]
              }
            ]
          }
        },
        "9c372fa5eaf742f2aa54501a9ae9b04e": {
          "model_module": "@jupyter-widgets/base",
          "model_name": "LayoutModel",
          "model_module_version": "1.2.0",
          "state": {
            "_model_module": "@jupyter-widgets/base",
            "_model_module_version": "1.2.0",
            "_model_name": "LayoutModel",
            "_view_count": null,
            "_view_module": "@jupyter-widgets/base",
            "_view_module_version": "1.2.0",
            "_view_name": "LayoutView",
            "align_content": null,
            "align_items": null,
            "align_self": null,
            "border": null,
            "bottom": null,
            "display": null,
            "flex": null,
            "flex_flow": null,
            "grid_area": null,
            "grid_auto_columns": null,
            "grid_auto_flow": null,
            "grid_auto_rows": null,
            "grid_column": null,
            "grid_gap": null,
            "grid_row": null,
            "grid_template_areas": null,
            "grid_template_columns": null,
            "grid_template_rows": null,
            "height": null,
            "justify_content": null,
            "justify_items": null,
            "left": null,
            "margin": null,
            "max_height": null,
            "max_width": null,
            "min_height": null,
            "min_width": null,
            "object_fit": null,
            "object_position": null,
            "order": null,
            "overflow": null,
            "overflow_x": null,
            "overflow_y": null,
            "padding": null,
            "right": null,
            "top": null,
            "visibility": null,
            "width": null
          }
        },
        "ce4930e57553492f948c57a027769595": {
          "model_module": "@jupyter-widgets/base",
          "model_name": "LayoutModel",
          "model_module_version": "1.2.0",
          "state": {
            "_model_module": "@jupyter-widgets/base",
            "_model_module_version": "1.2.0",
            "_model_name": "LayoutModel",
            "_view_count": null,
            "_view_module": "@jupyter-widgets/base",
            "_view_module_version": "1.2.0",
            "_view_name": "LayoutView",
            "align_content": null,
            "align_items": null,
            "align_self": null,
            "border": null,
            "bottom": null,
            "display": null,
            "flex": null,
            "flex_flow": null,
            "grid_area": null,
            "grid_auto_columns": null,
            "grid_auto_flow": null,
            "grid_auto_rows": null,
            "grid_column": null,
            "grid_gap": null,
            "grid_row": null,
            "grid_template_areas": null,
            "grid_template_columns": null,
            "grid_template_rows": null,
            "height": null,
            "justify_content": null,
            "justify_items": null,
            "left": null,
            "margin": null,
            "max_height": null,
            "max_width": null,
            "min_height": null,
            "min_width": null,
            "object_fit": null,
            "object_position": null,
            "order": null,
            "overflow": null,
            "overflow_x": null,
            "overflow_y": null,
            "padding": null,
            "right": null,
            "top": null,
            "visibility": null,
            "width": null
          }
        },
        "76f67dc50fe14db0a093ea1bb4cf3bf7": {
          "model_module": "@jupyter-widgets/controls",
          "model_name": "SliderStyleModel",
          "model_module_version": "1.5.0",
          "state": {
            "_model_module": "@jupyter-widgets/controls",
            "_model_module_version": "1.5.0",
            "_model_name": "SliderStyleModel",
            "_view_count": null,
            "_view_module": "@jupyter-widgets/base",
            "_view_module_version": "1.2.0",
            "_view_name": "StyleView",
            "description_width": "",
            "handle_color": null
          }
        },
        "c7e6129a7c324aeeb9b765e5494ecda1": {
          "model_module": "@jupyter-widgets/base",
          "model_name": "LayoutModel",
          "model_module_version": "1.2.0",
          "state": {
            "_model_module": "@jupyter-widgets/base",
            "_model_module_version": "1.2.0",
            "_model_name": "LayoutModel",
            "_view_count": null,
            "_view_module": "@jupyter-widgets/base",
            "_view_module_version": "1.2.0",
            "_view_name": "LayoutView",
            "align_content": null,
            "align_items": null,
            "align_self": null,
            "border": null,
            "bottom": null,
            "display": null,
            "flex": null,
            "flex_flow": null,
            "grid_area": null,
            "grid_auto_columns": null,
            "grid_auto_flow": null,
            "grid_auto_rows": null,
            "grid_column": null,
            "grid_gap": null,
            "grid_row": null,
            "grid_template_areas": null,
            "grid_template_columns": null,
            "grid_template_rows": null,
            "height": null,
            "justify_content": null,
            "justify_items": null,
            "left": null,
            "margin": null,
            "max_height": null,
            "max_width": null,
            "min_height": null,
            "min_width": null,
            "object_fit": null,
            "object_position": null,
            "order": null,
            "overflow": null,
            "overflow_x": null,
            "overflow_y": null,
            "padding": null,
            "right": null,
            "top": null,
            "visibility": null,
            "width": null
          }
        },
        "9e5ad79980af41caa6941e049b61891f": {
          "model_module": "@jupyter-widgets/controls",
          "model_name": "SliderStyleModel",
          "model_module_version": "1.5.0",
          "state": {
            "_model_module": "@jupyter-widgets/controls",
            "_model_module_version": "1.5.0",
            "_model_name": "SliderStyleModel",
            "_view_count": null,
            "_view_module": "@jupyter-widgets/base",
            "_view_module_version": "1.2.0",
            "_view_name": "StyleView",
            "description_width": "",
            "handle_color": null
          }
        },
        "ab3c8871cd064e878b3d42ac7c7d5287": {
          "model_module": "@jupyter-widgets/base",
          "model_name": "LayoutModel",
          "model_module_version": "1.2.0",
          "state": {
            "_model_module": "@jupyter-widgets/base",
            "_model_module_version": "1.2.0",
            "_model_name": "LayoutModel",
            "_view_count": null,
            "_view_module": "@jupyter-widgets/base",
            "_view_module_version": "1.2.0",
            "_view_name": "LayoutView",
            "align_content": null,
            "align_items": null,
            "align_self": null,
            "border": null,
            "bottom": null,
            "display": null,
            "flex": null,
            "flex_flow": null,
            "grid_area": null,
            "grid_auto_columns": null,
            "grid_auto_flow": null,
            "grid_auto_rows": null,
            "grid_column": null,
            "grid_gap": null,
            "grid_row": null,
            "grid_template_areas": null,
            "grid_template_columns": null,
            "grid_template_rows": null,
            "height": null,
            "justify_content": null,
            "justify_items": null,
            "left": null,
            "margin": null,
            "max_height": null,
            "max_width": null,
            "min_height": null,
            "min_width": null,
            "object_fit": null,
            "object_position": null,
            "order": null,
            "overflow": null,
            "overflow_x": null,
            "overflow_y": null,
            "padding": null,
            "right": null,
            "top": null,
            "visibility": null,
            "width": null
          }
        },
        "5c287f9bc2f446f4af7e662924bb1d11": {
          "model_module": "@jupyter-widgets/controls",
          "model_name": "VBoxModel",
          "model_module_version": "1.5.0",
          "state": {
            "_dom_classes": [
              "widget-interact"
            ],
            "_model_module": "@jupyter-widgets/controls",
            "_model_module_version": "1.5.0",
            "_model_name": "VBoxModel",
            "_view_count": null,
            "_view_module": "@jupyter-widgets/controls",
            "_view_module_version": "1.5.0",
            "_view_name": "VBoxView",
            "box_style": "",
            "children": [
              "IPY_MODEL_585beb37a919456c8a8c182c354694ce",
              "IPY_MODEL_6679b1dccadc46979275b771f8103ea2",
              "IPY_MODEL_6868b177363f4114a8aa5f1b65358dfd"
            ],
            "layout": "IPY_MODEL_77f7a9c5bfef4e4a9be1599a9cea593e"
          }
        },
        "585beb37a919456c8a8c182c354694ce": {
          "model_module": "@jupyter-widgets/controls",
          "model_name": "IntSliderModel",
          "model_module_version": "1.5.0",
          "state": {
            "_dom_classes": [],
            "_model_module": "@jupyter-widgets/controls",
            "_model_module_version": "1.5.0",
            "_model_name": "IntSliderModel",
            "_view_count": null,
            "_view_module": "@jupyter-widgets/controls",
            "_view_module_version": "1.5.0",
            "_view_name": "IntSliderView",
            "continuous_update": true,
            "description": "a1",
            "description_tooltip": null,
            "disabled": false,
            "layout": "IPY_MODEL_fb7f96eb358049d7863ce80c19786a20",
            "max": 180,
            "min": -180,
            "orientation": "horizontal",
            "readout": true,
            "readout_format": "d",
            "step": 1,
            "style": "IPY_MODEL_68345a373a7e4e8485e16b8cd457eb59",
            "value": -89
          }
        },
        "6679b1dccadc46979275b771f8103ea2": {
          "model_module": "@jupyter-widgets/controls",
          "model_name": "IntSliderModel",
          "model_module_version": "1.5.0",
          "state": {
            "_dom_classes": [],
            "_model_module": "@jupyter-widgets/controls",
            "_model_module_version": "1.5.0",
            "_model_name": "IntSliderModel",
            "_view_count": null,
            "_view_module": "@jupyter-widgets/controls",
            "_view_module_version": "1.5.0",
            "_view_name": "IntSliderView",
            "continuous_update": true,
            "description": "a2",
            "description_tooltip": null,
            "disabled": false,
            "layout": "IPY_MODEL_1c274a97414a44f887ca6a6075319a88",
            "max": 180,
            "min": -180,
            "orientation": "horizontal",
            "readout": true,
            "readout_format": "d",
            "step": 1,
            "style": "IPY_MODEL_8ad7fb40a6474b09a6fb0aeaf21ebc37",
            "value": 69
          }
        },
        "6868b177363f4114a8aa5f1b65358dfd": {
          "model_module": "@jupyter-widgets/output",
          "model_name": "OutputModel",
          "model_module_version": "1.0.0",
          "state": {
            "_dom_classes": [],
            "_model_module": "@jupyter-widgets/output",
            "_model_module_version": "1.0.0",
            "_model_name": "OutputModel",
            "_view_count": null,
            "_view_module": "@jupyter-widgets/output",
            "_view_module_version": "1.0.0",
            "_view_name": "OutputView",
            "layout": "IPY_MODEL_4bfb22eee9cd445b9da83997f6638201",
            "msg_id": "1a901fa2-55f5-4d1b-df6d-7c5640e590b1",
            "outputs": [
              {
                "output_type": "display_data",
                "data": {
                  "text/plain": "<Figure size 1152x576 with 1 Axes>",
                  "image/png": "iVBORw0KGgoAAAANSUhEUgAAAw0AAAHWCAYAAAA1h2UlAAAABHNCSVQICAgIfAhkiAAAAAlwSFlzAAALEgAACxIB0t1+/AAAADh0RVh0U29mdHdhcmUAbWF0cGxvdGxpYiB2ZXJzaW9uMy4yLjIsIGh0dHA6Ly9tYXRwbG90bGliLm9yZy+WH4yJAAAdj0lEQVR4nO3de5DdZ33f8c93d3WxJcsXLGsFtsEBgy9rAkUDKU4hYIO1bqZOmqaDJ+lAYeJcIE1bEkKGP9KZTKaZtE3aJiEZt1DohMKkaZh4EuQLhgAhiUEONpZsgy+AL8iWjMG2JOuy0tM/dm3LQnosZ4/27OX1mtHsue1zvvacOdbbv+d3TrXWAgAAcDQjwx4AAACY30QDAADQJRoAAIAu0QAAAHSJBgAAoEs0AAAAXcccDVX14araXlVbDrntP1XVnVX11ar6ZFWdcnzGBAAAhuX5HGn4SJKNh912Q5KJ1tork3w9ya8NaC4AAGCeOOZoaK19Psmjh912fWttaubq3yU5c4CzAQAA88Agz2l4Z5JNA1wPAACYB8YGsUhVfSDJVJKPdR5zVZKrkmTVqlWvOe+88wbx1AAAwADcfPPNj7TW1h7pvllHQ1W9I8mPJrmktdaO9rjW2tVJrk6SDRs2tM2bN8/2qQEAgAGpqm8d7b5ZRUNVbUzyviRvbK3tns1aAADA/PR8PnL140n+NskrquqBqnpXkt9PclKSG6rqlqr6o+M0JwAAMCTHfKShtXblEW7+0ABnAQAA5iHfCA0AAHSJBgAAoEs0AAAAXaIBAADoEg0AAECXaAAAALpEAwAA0CUaAACALtEAAAB0iQYAAKBLNAAAAF2iAQAA6BINAABAl2gAAAC6RAMAANAlGgAAgC7RAAAAdIkGAACgSzQAAABdogEAAOgSDQAAQJdoAAAAukQDAADQJRoAAIAu0QAAAHSJBgAAoEs0AAAAXaIBAADoEg0AAECXaAAAALpEAwAA0CUaAACALtEAAAB0iQYAAKBLNAAAAF2iAQAA6BINAABAl2gAAAC6RAMAANAlGgAAgC7RAAAAdIkGAACgSzQAAABdogEAAOgSDQAAQJdoAAAAukQDAADQJRoAAIAu0QAAAHSJBgAAoEs0AAAAXaIBAADoEg0AAEDXMUdDVX24qrZX1ZZDbjutqm6oqrtmfp56fMYEAACG5fkcafhIko2H3fb+JDe21s5NcuPMdQAAYBE55mhorX0+yaOH3XxFko/OXP5okh8b0FwAAMA8MdtzGta11rbNXH4oybpZrgcAAMwzAzsRurXWkrSj3V9VV1XV5qravGPHjkE9LQAAcJzNNhoerqr1STLzc/vRHthau7q1tqG1tmHt2rWzfFoAAGCuzDYarkny9pnLb0/y57NcDwAAmGeez0eufjzJ3yZ5RVU9UFXvSvJbSd5SVXcluXTmOgAAsIiMHesDW2tXHuWuSwY0CwAAMA/5RmgAAKBLNAAAAF2iAQAA6BINAABAl2gAAAC6RAMAANAlGgAAgC7RAAAAdIkGAACgSzQAAABdogEAAOgSDQAAQJdoAAAAukQDAADQJRoAAIAu0QAAAHSJBgAAoEs0AAAAXaIBAADoEg0AAECXaAAAALpEAwAA0CUaAACALtEAAAB0iQYAAKBLNAAAAF2iAQAA6BINAABAl2gAAAC6RAMAANAlGgAAgC7RAAAAdIkGAACgSzQAAABdogEAAOgSDQAAQJdoAAAAukQDAADQJRoAAIAu0QAAAHSJBgAAoEs0AAAAXaIBAADoEg0AAECXaAAAALpEAwAA0CUaAACALtEAAAB0iQYAAKBLNAAAAF2iAQAA6BINAABAl2gAAAC6BhINVfXvqmprVW2pqo9X1cpBrAsAAAzfrKOhql6U5N8k2dBam0gymuRts10XAACYHwa1PWksyQlVNZbkxCTfHtC6AADAkM06GlprDyb5z0nuS7ItyWOttetnuy4AADA/DGJ70qlJrkhyTpIXJllVVT99hMddVVWbq2rzjh07Zvu0AADAHBnE9qRLk3yjtbajtbY/yZ8lef3hD2qtXd1a29Ba27B27doBPC0AADAXBhEN9yX5oao6saoqySVJ7hjAugAAwDwwiHMabkryp0n+PsltM2tePdt1AQCA+WFsEIu01n49ya8PYi0AAGB+8Y3QAABAl2gAAAC6RAMAANAlGgAAgC7RAAAAdIkGAACgSzQAAABdogEAAOgSDQAAQJdoAAAAukQDAADQJRoAAIAu0QAAAHSJBgAAoEs0AAAAXaIBAADoEg0AAECXaAAAALpEAwAA0CUaAACALtEAAAB0iQYAAKBLNAAAAF2iAQAA6BINAABAl2gAAAC6RAMAANAlGgAAgC7RAAAAdIkGAACgSzQAAABdogEAAOgSDQAAQJdoAAAAukQDAADQJRoAAIAu0QAAAHSJBgAAoEs0AAAAXaIBAADoEg0AAECXaAAAALpEAwAA0CUaAACALtEAAAB0iQYAAKBLNAAAAF2iAQAA6BINAABAl2gAAAC6RAMAANAlGgAAgC7RAAAAdIkGAACgayDRUFWnVNWfVtWdVXVHVf3jQawLAAAM39iA1vlvSa5trf2Lqlqe5MQBrQsAAAzZrKOhqk5O8oYk70iS1tq+JPtmuy4AADA/DGJ70jlJdiT5X1X1lar6n1W16vAHVdVVVbW5qjbv2LFjAE8LAADMhUFEw1iSf5TkD1trr06yK8n7D39Qa+3q1tqG1tqGtWvXDuBpAQCAuTCIaHggyQOttZtmrv9ppiMCAABYBGYdDa21h5LcX1WvmLnpkiS3z3ZdAABgfhjUpyf9YpKPzXxy0r1J/vWA1gUAAIZsINHQWrslyYZBrAUAAMwvvhEaAADoEg0AAECXaAAAALpEAwAA0CUaAACALtEAAAB0iQYAAKBLNAAAAF2iAQAA6BINAABAl2gAAAC6RAMAANAlGgAAgC7RAAAAdIkGAACgSzQAAABdogEAAOgSDQAAQJdoAAAAukQDAADQJRoAAIAu0QAAAHSJBgAAoEs0AAAAXaIBAADoEg0AAECXaAAAALpEAwAA0CUaAACALtEAAAB0iQYAAKBLNAAAAF2iAQAA6BINAABAl2gAAAC6RAMAANAlGgAAgC7RAAAAdIkGAACgSzQAAABdogEAAOgSDQAAQJdoAAAAukQDAADQJRoAAIAu0QAAAHSJBgAAoEs0AAAAXaIBAADoEg0AAECXaAAAALpEAwAA0CUaYCG6557kppuSvXuHPQkAsAQMLBqqarSqvlJVfzGoNYHDPPZYcvnlycUXJz/3c8nZZyfXXDPsqQCARW6QRxp+KckdA1wPONx735u88IXJ/fcnX/nKdDC84x3Jtm3DngwAWMTGBrFIVZ2Z5J8m+c0k/34QawKHaS35+MeTb34zn/jKtlxz67ezesVYVv/0b2T1h/4qqza8evr6irGsmvk5fXk0J6185rZVy8cyMlLD/qcBABaQgURDkv+a5H1JTjraA6rqqiRXJcnZZ589oKeFpelgS/ZNHcx9u3Zn5/LTs2v3Cdn5hXuz/0A7pt9ftXz0mbBYOR0Sq1c+ExmrVyzL6hWjzw6QmfA46anbZn5vVIAAwKJXrR3bXzKOukDVjya5vLX2C1X1I0l+ubX2o73f2bBhQ9u8efOsnheWpHe9KxkZST74wWTZsumToScnk61bk/Xrs3fqQHbumcquvQeyc+9Udu6dyq69U3li5ufOPc/ctvOQP9PXD2Tn3v3Tv7tnKvsOHDymkU5YNvp0cDwTHYcc8Vg5ltXLD7l8yH1PHwFZPv17Y6M+mwEAhqWqbm6tbTjSfYM40nBxkn9WVZcnWZlkTVX9cWvtpwewNnCo3/md5Morp0+AXr8+efDB5CMfmb6cZMXYaFasHs0LVs/+qfZNHfy+uNg5Ex67vi84ZqJjz3R0fPt7e54VLPumji1AVi4befoox6FbrFavPHzL1TNHPA7ffvXU/csECAAMzKyPNDxrMUcaYG7cc0+yY0fy6lcnK1YMe5rntP/AdIA8sWcqu/Y9c8TjWUc5Zu57YiZKnnWE5Knre6ay9xgDZMXYyFG2Xz0VF9PbsJ4+MnL49qtDAmT52BAD5NZbk9/7veSBB5I3vjF597uTNWuGNw8Ai9bxPtIAzLWXvnT6zwKxbHQkp5y4PKecuHzWa+0/cDC79x7IE09tpdq7Pzv3HnjW9qvDt2U9FRzbn9iTnTumnn78k/sPHNNzLn8qQJ4OitFnb7Fafth2qyOckD4dJaNZMTZ67P+wX/hC8hM/kfzKryRXXJF87GPJm9+cfPGLCyIWAVg8Bnqk4Vg50gDMB1MHDmbXvgPPOpLxfUc59kxl575Dzwk55NyPQwJl975jDJDRkaw62var5Ycd8fjgf8+qf3JxTrrkDTnr1BNz7hmrk0svTd75zuSnfuo4/9sBYKlxpAHgCMZGR3LyCSM5+YRls17rwMH29Narw8/5eGLPs8/9eNa5Inum8uiufbnv0d1P/+6upwLkJW9J7k/ykc0ZG6n89a++OeOXXpp89auiAYA5JRoABmB0pLJm5bKsWTn7ADn4VIBc8RPZ9bafyjde9yP5mf+9Oddt2Za333jj9Bf6AcAc8vEiAPPMyEjlpJXLsv4Dv5yX/eov5i2b/jgvOyHZ9H8/kzz6aPKTPznsEQFYYkQDwHz1hjck112XbN2ayXtvypdWrst3/vJ6J0EDMOdEA8B89upXJx/+cDb+x/fmYCrX37972BMBsASJBoAF4IL1a/LiF5yYT922bdijALAEiQaABaCqsnFiPH97z3fy2O79wx4HgCVGNAAsEJMT6zN1sOWGOx4e9igALDGiAWCB+MEzT84LT16Za7fYogTA3BINAAtEVeWyifF8/q5H8sQeW5QAmDuiAWABmZxYn31TB/OZO7cPexQAlhDRALCAvObFp2btSSty7ZaHhj0KAEuIaABYQEZHKpdduC5/9bUdeXLfgWGPA8ASIRoAFpjJifV5cv+BfO7rtigBMDdEA8AC87pzTsupJy7LJluUAJgjogFggRkbHclbLliXG+/Ynr1TtigBcPyJBoAFaPKi9dm5dyp/fdcjwx4FgCVANAAsQBe/9PSctHLMFiUA5oRoAFiAlo+N5NLz1+WG2x/O/gMHhz0OAIucaABYoDZOjOexJ/fn7+79zrBHAWCREw0AC9QbX742Jy4ftUUJgONONAAsUCuXjeZNrzgj1299KAcOtmGPA8AiJhoAFrDJi8bzyM59+fI3Hx32KAAsYqIBYAF70yvOyIqxkVxrixIAx5FoAFjAVq0YyxtevjbXbnkoB21RAuA4EQ0AC9zkxHgeenxPbnnge8MeBYBFSjQALHCXnL8uy0bLFiUAjhvRALDAnXzCslz8stOzacu2tGaLEgCDJxoAFoHJifHc/+iT2frtx4c9CgCLkGgAWATecsF4Rkcqm7ZsG/YoACxCogFgETht1fK87pzTsmnLQ7YoATBwogFgkZicGM+9O3blru07hz0KAIuMaABYJC67cDxVyabbfIoSAIMlGgAWiTPWrMyGF5/qvAYABk40ACwiGyfW586Hnsg3Htk17FEAWEREA8AisnFiPEkcbQBgoEQDwCLyolNOyA+eebJvhwZgoEQDwCKzcWJ9vvrAY3ngu7uHPQoAi4RoAFhkJme2KDnaAMCgiAaAReYlp6/K+evXZJNoAGBARAPAIjQ5MZ6bv/XdPPz4nmGPAsAiIBoAFqGntihdt9XRBgBmTzQALELnrjspL127yrdDAzAQogFgkZqcWJ+bvvGdfGfn3mGPAsACJxoAFqnJi8ZzsCU33P7wsEcBYIETDQCL1AXr1+Ts007Mp3yKEgCzJBoAFqmqyuTEeP7m7kfy2O79wx4HgAVMNAAsYhsnxjN1sOXTd9iiBMA/nGgAWMR+8MxTsv7klb7oDYBZEQ0Ai9jISOWyC8fz+bt2ZOfeqWGPA8ACJRoAFrnLL1qffVMH89k7tw97FAAWKNEAsMi95sWn5vTVK7Jpy7ZhjwLAAiUaABa50ZHKZReuy2fv3JEn9x0Y9jgALECzjoaqOquqPltVt1fV1qr6pUEMBsDgTE6sz5P7D+RzX98x7FEAWIAGcaRhKsl7W2sXJPmhJO+uqgsGsC4AA/K6Hzgtp5y4LNfaogTAP8Cso6G1tq219vczl59IckeSF812XQAGZ9noSN56wbrceMf27J2yRQmA52eg5zRU1UuSvDrJTYNcF4DZm5xYnyf2TuWLdz8y7FEAWGAGFg1VtTrJ/0vyb1trjx/h/quqanNVbd6xw55agLn2+pe9ICetGMum23zRGwDPz0CioaqWZToYPtZa+7MjPaa1dnVrbUNrbcPatWsH8bQAPA8rxkZzyfln5IY7Hs7+AweHPQ4AC8ggPj2pknwoyR2ttd+Z/UgAHC8bJ9bne7v356Z7Hx32KAAsIIM40nBxkn+V5M1VdcvMn8sHsC4AA/bGl6/NCctGfdEbAM/LID496a9ba9Vae2Vr7VUzfz41iOEAGKwTlo/mzeedkeu2PpwDB9uwxwFggfCN0ABLzMaJ8Tyyc282f9MWJQCOjWgAWGLedN4ZWT42kk1bfIoSAMdGNAAsMatXjOUN567NdVsfykFblAA4BqIBYAmanBjPtsf25NYHvjfsUQBYAEQDwBJ06fnrsmy0cq0tSgAcA9EAsASdfOKyvP6lp2fTlofSmi1KAPSJBoAlanJiPPc9ujtbv/34sEcBYJ4TDQBL1FsuWJeRii1KADwn0QCwRL1g9Yq87pwX+HZoAJ6TaABYwiYvGs89O3blroefGPYoAMxjogFgCbvswvFUxRe9AdAlGgCWsHVrVuY1Z58qGgDoEg0AS9zGifHcse3xfPORXcMeBYB5SjQALHEbJ8aT2KIEwNGJBoAl7sxTT8wrzzw51/oUJQCOQjQAkI0T47n1gcfy4PeeHPYoAMxDogGATE6sT+KL3gA4MtEAQM45fVXOGz8pm26zRQmA7ycaAEgyfbTh5vu+m+2P7xn2KADMM6IBgCTT3w7dWnLdVluUAHg20QBAkuTcM1bnB9au8tGrAHwf0QBAkqSqcvnE+tz0jUfz6K59wx4HgHlENADwtI0T4zlwsOWG2x1tAOAZogGAp134wjU567QT8qnbRAMAzxANADytqjI5sT5/c88jeezJ/cMeB4B5QjQA8CwbJ8az/0DLjXc8POxRAJgnRAMAz/KqM0/J+JqVPkUJgKeJBgCeZWSksnFiPJ//+o7s2js17HEAmAdEAwDfZ3JiPHunDuazX9s+7FEAmAdEAwDfZ8NLTsvpq5dnk09RAiCiAYAjGB2pvPXC8Xz2a9uzZ/+BYY8DwJCJBgCOaHJiPLv3Hcjnvr5j2KMAMGSiAYAj+qEfeEFOOXFZrvUpSgBLnmgA4IiWjY7kLeevy6fveDj7pg4OexwAhkg0AHBUkxeN54k9U/niPY8MexQAhkg0AHBUF7/s9Jy0Yiybbts27FEAGCLRAMBRrRgbzZvPPyM33P5wpg7YogSwVIkGALomJ8bz3d37c9M3Hh32KAAMiWgAoOuNLz8jJywbzaYttigBLFWiAYCuE5aP5k3nrc11Wx/OgYNt2OMAMASiAYDntHFifXY8sTc3f+u7wx4FgCEQDQA8pzefd0aWj43YogSwRIkGAJ7T6hVjecO5p+e6LQ+lNVuUAJYa0QDAMZmcWJ9vP7Yntz7w2LBHAWCOiQYAjsml56/L2EjZogSwBIkGAI7JyScuy+tfdnqutUUJYMkRDQAcs8mJ8XzrO7tz+7bHhz0KAHNINABwzN56wbqMVHLtloeGPQoAc0g0AHDMXrB6RV57zmnZJBoAlhTRAMDzcvlF63P39p25e/sTwx4FgDkiGgB4Xi67cDxJsuk2RxsAlgrRAMDzsm7NyrzmxafaogSwhIgGAJ63yYnx3L7t8XzrO7uGPQoAc2Ag0VBVG6vqa1V1d1W9fxBrAjB/XXbBGUmSTb/1oeR3fzd55JEhTwTA8TTraKiq0SR/kGQyyQVJrqyqC2a7LgDz1MGDOesX3pWLvnd/Nu1amfzmbyZnn5185jPDngyA42QQRxpem+Tu1tq9rbV9ST6R5IoBrAvAfHT99cktt2Tya3+TW9e8KN/eV8nevcnGjcn99w97OgCOg0FEw4uSHPpfiQdmbgNgMfrCF5KTT87k1s8lSa59+euTgweT/fuT3/7tIQ8HwPEwZydCV9VVVbW5qjbv2LFjrp4WgEE7++zk7rtzzo778oHPfCg//K1bnrnvS18a3lwAHDeDiIYHk5x1yPUzZ257ltba1a21Da21DWvXrh3A0wIwFFdeOX1UYWQkP/PlT+blj9w3ffvoaPLa1w53NgCOi0FEw5eTnFtV51TV8iRvS3LNANYFYD5asya59trpSHjK6Oj07e973/DmAuC4mXU0tNamkrwnyXVJ7kjyJ621rbNdF4B57OKLk3vuSd7znumjCz//88mttyZnnfXcvwvAglOttTl/0g0bNrTNmzfP+fMCAABHVlU3t9Y2HOk+3wgNAAB0iQYAAKBLNAAAAF2iAQAA6BINAABAl2gAAAC6RAMAANAlGgAAgC7RAAAAdIkGAACgSzQAAABdogEAAOgSDQAAQJdoAAAAukQDAADQJRoAAIAu0QAAAHSJBgAAoEs0AAAAXaIBAADoEg0AAECXaAAAALpEAwAA0CUaAACALtEAAAB0iQYAAKBLNAAAAF2iAQAA6BINAABAl2gAAAC6RAMAANAlGgAAgC7RAAAAdIkGAACgSzQAAABdogEAAOgSDQAAQJdoAAAAukQDAADQJRoAAIAu0QAAAHSJBgAAoEs0AAAAXaIBAADoEg0AAECXaAAAALpEAwAA0CUaAACALtEAAAB0iQYAAKBLNAAAAF2iAQAA6BINAABA16yioar+U1XdWVVfrapPVtUpgxoMAACYH2Z7pOGGJBOttVcm+XqSX5v9SAAAwHwyq2horV3fWpuaufp3Sc6c/UgAAMB8MshzGt6ZZNMA1wMAAOaBsed6QFV9Osn4Ee76QGvtz2ce84EkU0k+1lnnqiRXzVzdWVVfe/7jLninJ3lk2EOwJHitMZe83pgrXmvMlaX6Wnvx0e6o1tqsVq6qdyT52SSXtNZ2z2qxRa6qNrfWNgx7DhY/rzXmktcbc8Vrjbnitfb9nvNIQ09VbUzyviRvFAwAALA4zfacht9PclKSG6rqlqr6owHMBAAAzCOzOtLQWnvZoAZZIq4e9gAsGV5rzCWvN+aK1xpzxWvtMLM+pwEAAFjcBvmRqwAAwCIkGuZAVf1kVW2tqoNVteGw+36tqu6uqq9V1WXDmpHFp6r+Q1U9OHO+0S1VdfmwZ2JxqaqNM+9dd1fV+4c9D4tbVX2zqm6beT/bPOx5WDyq6sNVtb2qthxy22lVdUNV3TXz89RhzjgfiIa5sSXJP0/y+UNvrKoLkrwtyYVJNib5YFWNzv14LGK/21p71cyfTw17GBaPmfeqP0gymeSCJFfOvKfB8fSmmfczH4XJIH0k038PO9T7k9zYWjs3yY0z15c00TAHWmt3tNaO9GV2VyT5RGttb2vtG0nuTvLauZ0O4B/ktUnubq3d21rbl+QTmX5PA1hQWmufT/LoYTdfkeSjM5c/muTH5nSoeUg0DNeLktx/yPUHZm6DQXlPVX115tDrkj+0ykB5/2KutSTXV9XNVXXVsIdh0VvXWts2c/mhJOuGOcx8MKuPXOUZVfXpJONHuOsDrbU/n+t5WBp6r7skf5jkNzL9H9rfSPJfkrxz7qYDGKgfbq09WFVnZPr7oe6c+T/EcFy11lpVLfmPGxUNA9Jau/Qf8GsPJjnrkOtnztwGx+RYX3dV9T+S/MVxHoelxfsXc6q19uDMz+1V9clMb5ETDRwvD1fV+tbatqpan2T7sAcaNtuThuuaJG+rqhVVdU6Sc5N8acgzsUjMvMk95cczfUI+DMqXk5xbVedU1fJMf6jDNUOeiUWqqlZV1UlPXU7y1nhP4/i6JsnbZy6/PcmS3zXiSMMcqKofT/J7SdYm+cuquqW1dllrbWtV/UmS25NMJXl3a+3AMGdlUfntqnpVprcnfTPJzw53HBaT1tpUVb0nyXVJRpN8uLW2dchjsXitS/LJqkqm/+7yf1pr1w53JBaLqvp4kh9JcnpVPZDk15P8VpI/qap3JflWkn85vAnnB98IDQAAdNmeBAAAdIkGAACgSzQAAABdogEAAOgSDQAAQJdoAAAAukQDAADQJRoAAICu/w9Q/fHzwNsnUgAAAABJRU5ErkJggg==\n"
                },
                "metadata": {
                  "needs_background": "light"
                }
              }
            ]
          }
        },
        "77f7a9c5bfef4e4a9be1599a9cea593e": {
          "model_module": "@jupyter-widgets/base",
          "model_name": "LayoutModel",
          "model_module_version": "1.2.0",
          "state": {
            "_model_module": "@jupyter-widgets/base",
            "_model_module_version": "1.2.0",
            "_model_name": "LayoutModel",
            "_view_count": null,
            "_view_module": "@jupyter-widgets/base",
            "_view_module_version": "1.2.0",
            "_view_name": "LayoutView",
            "align_content": null,
            "align_items": null,
            "align_self": null,
            "border": null,
            "bottom": null,
            "display": null,
            "flex": null,
            "flex_flow": null,
            "grid_area": null,
            "grid_auto_columns": null,
            "grid_auto_flow": null,
            "grid_auto_rows": null,
            "grid_column": null,
            "grid_gap": null,
            "grid_row": null,
            "grid_template_areas": null,
            "grid_template_columns": null,
            "grid_template_rows": null,
            "height": null,
            "justify_content": null,
            "justify_items": null,
            "left": null,
            "margin": null,
            "max_height": null,
            "max_width": null,
            "min_height": null,
            "min_width": null,
            "object_fit": null,
            "object_position": null,
            "order": null,
            "overflow": null,
            "overflow_x": null,
            "overflow_y": null,
            "padding": null,
            "right": null,
            "top": null,
            "visibility": null,
            "width": null
          }
        },
        "fb7f96eb358049d7863ce80c19786a20": {
          "model_module": "@jupyter-widgets/base",
          "model_name": "LayoutModel",
          "model_module_version": "1.2.0",
          "state": {
            "_model_module": "@jupyter-widgets/base",
            "_model_module_version": "1.2.0",
            "_model_name": "LayoutModel",
            "_view_count": null,
            "_view_module": "@jupyter-widgets/base",
            "_view_module_version": "1.2.0",
            "_view_name": "LayoutView",
            "align_content": null,
            "align_items": null,
            "align_self": null,
            "border": null,
            "bottom": null,
            "display": null,
            "flex": null,
            "flex_flow": null,
            "grid_area": null,
            "grid_auto_columns": null,
            "grid_auto_flow": null,
            "grid_auto_rows": null,
            "grid_column": null,
            "grid_gap": null,
            "grid_row": null,
            "grid_template_areas": null,
            "grid_template_columns": null,
            "grid_template_rows": null,
            "height": null,
            "justify_content": null,
            "justify_items": null,
            "left": null,
            "margin": null,
            "max_height": null,
            "max_width": null,
            "min_height": null,
            "min_width": null,
            "object_fit": null,
            "object_position": null,
            "order": null,
            "overflow": null,
            "overflow_x": null,
            "overflow_y": null,
            "padding": null,
            "right": null,
            "top": null,
            "visibility": null,
            "width": null
          }
        },
        "68345a373a7e4e8485e16b8cd457eb59": {
          "model_module": "@jupyter-widgets/controls",
          "model_name": "SliderStyleModel",
          "model_module_version": "1.5.0",
          "state": {
            "_model_module": "@jupyter-widgets/controls",
            "_model_module_version": "1.5.0",
            "_model_name": "SliderStyleModel",
            "_view_count": null,
            "_view_module": "@jupyter-widgets/base",
            "_view_module_version": "1.2.0",
            "_view_name": "StyleView",
            "description_width": "",
            "handle_color": null
          }
        },
        "1c274a97414a44f887ca6a6075319a88": {
          "model_module": "@jupyter-widgets/base",
          "model_name": "LayoutModel",
          "model_module_version": "1.2.0",
          "state": {
            "_model_module": "@jupyter-widgets/base",
            "_model_module_version": "1.2.0",
            "_model_name": "LayoutModel",
            "_view_count": null,
            "_view_module": "@jupyter-widgets/base",
            "_view_module_version": "1.2.0",
            "_view_name": "LayoutView",
            "align_content": null,
            "align_items": null,
            "align_self": null,
            "border": null,
            "bottom": null,
            "display": null,
            "flex": null,
            "flex_flow": null,
            "grid_area": null,
            "grid_auto_columns": null,
            "grid_auto_flow": null,
            "grid_auto_rows": null,
            "grid_column": null,
            "grid_gap": null,
            "grid_row": null,
            "grid_template_areas": null,
            "grid_template_columns": null,
            "grid_template_rows": null,
            "height": null,
            "justify_content": null,
            "justify_items": null,
            "left": null,
            "margin": null,
            "max_height": null,
            "max_width": null,
            "min_height": null,
            "min_width": null,
            "object_fit": null,
            "object_position": null,
            "order": null,
            "overflow": null,
            "overflow_x": null,
            "overflow_y": null,
            "padding": null,
            "right": null,
            "top": null,
            "visibility": null,
            "width": null
          }
        },
        "8ad7fb40a6474b09a6fb0aeaf21ebc37": {
          "model_module": "@jupyter-widgets/controls",
          "model_name": "SliderStyleModel",
          "model_module_version": "1.5.0",
          "state": {
            "_model_module": "@jupyter-widgets/controls",
            "_model_module_version": "1.5.0",
            "_model_name": "SliderStyleModel",
            "_view_count": null,
            "_view_module": "@jupyter-widgets/base",
            "_view_module_version": "1.2.0",
            "_view_name": "StyleView",
            "description_width": "",
            "handle_color": null
          }
        },
        "4bfb22eee9cd445b9da83997f6638201": {
          "model_module": "@jupyter-widgets/base",
          "model_name": "LayoutModel",
          "model_module_version": "1.2.0",
          "state": {
            "_model_module": "@jupyter-widgets/base",
            "_model_module_version": "1.2.0",
            "_model_name": "LayoutModel",
            "_view_count": null,
            "_view_module": "@jupyter-widgets/base",
            "_view_module_version": "1.2.0",
            "_view_name": "LayoutView",
            "align_content": null,
            "align_items": null,
            "align_self": null,
            "border": null,
            "bottom": null,
            "display": null,
            "flex": null,
            "flex_flow": null,
            "grid_area": null,
            "grid_auto_columns": null,
            "grid_auto_flow": null,
            "grid_auto_rows": null,
            "grid_column": null,
            "grid_gap": null,
            "grid_row": null,
            "grid_template_areas": null,
            "grid_template_columns": null,
            "grid_template_rows": null,
            "height": null,
            "justify_content": null,
            "justify_items": null,
            "left": null,
            "margin": null,
            "max_height": null,
            "max_width": null,
            "min_height": null,
            "min_width": null,
            "object_fit": null,
            "object_position": null,
            "order": null,
            "overflow": null,
            "overflow_x": null,
            "overflow_y": null,
            "padding": null,
            "right": null,
            "top": null,
            "visibility": null,
            "width": null
          }
        },
        "dbffd2b216cd4ae7b8fc538313b23274": {
          "model_module": "@jupyter-widgets/controls",
          "model_name": "VBoxModel",
          "model_module_version": "1.5.0",
          "state": {
            "_dom_classes": [
              "widget-interact"
            ],
            "_model_module": "@jupyter-widgets/controls",
            "_model_module_version": "1.5.0",
            "_model_name": "VBoxModel",
            "_view_count": null,
            "_view_module": "@jupyter-widgets/controls",
            "_view_module_version": "1.5.0",
            "_view_name": "VBoxView",
            "box_style": "",
            "children": [
              "IPY_MODEL_77881e2cf45b430ea87facd1c47db983",
              "IPY_MODEL_6768f1488b48494d9fc2bfd4eea9a1ed",
              "IPY_MODEL_9c597a2de16141dbbf9a1bff3575f417"
            ],
            "layout": "IPY_MODEL_337cc3e186194cb79deb610d61d72d1e"
          }
        },
        "77881e2cf45b430ea87facd1c47db983": {
          "model_module": "@jupyter-widgets/controls",
          "model_name": "IntSliderModel",
          "model_module_version": "1.5.0",
          "state": {
            "_dom_classes": [],
            "_model_module": "@jupyter-widgets/controls",
            "_model_module_version": "1.5.0",
            "_model_name": "IntSliderModel",
            "_view_count": null,
            "_view_module": "@jupyter-widgets/controls",
            "_view_module_version": "1.5.0",
            "_view_name": "IntSliderView",
            "continuous_update": true,
            "description": "a1",
            "description_tooltip": null,
            "disabled": false,
            "layout": "IPY_MODEL_b7b1697cc960486795072c984dc60169",
            "max": 180,
            "min": -180,
            "orientation": "horizontal",
            "readout": true,
            "readout_format": "d",
            "step": 1,
            "style": "IPY_MODEL_6265248cfffe40108c74ca548f037dc7",
            "value": -54
          }
        },
        "6768f1488b48494d9fc2bfd4eea9a1ed": {
          "model_module": "@jupyter-widgets/controls",
          "model_name": "IntSliderModel",
          "model_module_version": "1.5.0",
          "state": {
            "_dom_classes": [],
            "_model_module": "@jupyter-widgets/controls",
            "_model_module_version": "1.5.0",
            "_model_name": "IntSliderModel",
            "_view_count": null,
            "_view_module": "@jupyter-widgets/controls",
            "_view_module_version": "1.5.0",
            "_view_name": "IntSliderView",
            "continuous_update": true,
            "description": "a2",
            "description_tooltip": null,
            "disabled": false,
            "layout": "IPY_MODEL_e9486f461a1441d995147f1ad1381197",
            "max": 180,
            "min": -180,
            "orientation": "horizontal",
            "readout": true,
            "readout_format": "d",
            "step": 1,
            "style": "IPY_MODEL_7193bb2a9d964cb0891c7e651e7b9887",
            "value": 75
          }
        },
        "9c597a2de16141dbbf9a1bff3575f417": {
          "model_module": "@jupyter-widgets/output",
          "model_name": "OutputModel",
          "model_module_version": "1.0.0",
          "state": {
            "_dom_classes": [],
            "_model_module": "@jupyter-widgets/output",
            "_model_module_version": "1.0.0",
            "_model_name": "OutputModel",
            "_view_count": null,
            "_view_module": "@jupyter-widgets/output",
            "_view_module_version": "1.0.0",
            "_view_name": "OutputView",
            "layout": "IPY_MODEL_92965923e03e4345984922d1b9f50728",
            "msg_id": "",
            "outputs": [
              {
                "output_type": "display_data",
                "data": {
                  "text/plain": "<Figure size 1152x576 with 1 Axes>",
                  "image/png": "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\n"
                },
                "metadata": {
                  "needs_background": "light"
                }
              }
            ]
          }
        },
        "337cc3e186194cb79deb610d61d72d1e": {
          "model_module": "@jupyter-widgets/base",
          "model_name": "LayoutModel",
          "model_module_version": "1.2.0",
          "state": {
            "_model_module": "@jupyter-widgets/base",
            "_model_module_version": "1.2.0",
            "_model_name": "LayoutModel",
            "_view_count": null,
            "_view_module": "@jupyter-widgets/base",
            "_view_module_version": "1.2.0",
            "_view_name": "LayoutView",
            "align_content": null,
            "align_items": null,
            "align_self": null,
            "border": null,
            "bottom": null,
            "display": null,
            "flex": null,
            "flex_flow": null,
            "grid_area": null,
            "grid_auto_columns": null,
            "grid_auto_flow": null,
            "grid_auto_rows": null,
            "grid_column": null,
            "grid_gap": null,
            "grid_row": null,
            "grid_template_areas": null,
            "grid_template_columns": null,
            "grid_template_rows": null,
            "height": null,
            "justify_content": null,
            "justify_items": null,
            "left": null,
            "margin": null,
            "max_height": null,
            "max_width": null,
            "min_height": null,
            "min_width": null,
            "object_fit": null,
            "object_position": null,
            "order": null,
            "overflow": null,
            "overflow_x": null,
            "overflow_y": null,
            "padding": null,
            "right": null,
            "top": null,
            "visibility": null,
            "width": null
          }
        },
        "b7b1697cc960486795072c984dc60169": {
          "model_module": "@jupyter-widgets/base",
          "model_name": "LayoutModel",
          "model_module_version": "1.2.0",
          "state": {
            "_model_module": "@jupyter-widgets/base",
            "_model_module_version": "1.2.0",
            "_model_name": "LayoutModel",
            "_view_count": null,
            "_view_module": "@jupyter-widgets/base",
            "_view_module_version": "1.2.0",
            "_view_name": "LayoutView",
            "align_content": null,
            "align_items": null,
            "align_self": null,
            "border": null,
            "bottom": null,
            "display": null,
            "flex": null,
            "flex_flow": null,
            "grid_area": null,
            "grid_auto_columns": null,
            "grid_auto_flow": null,
            "grid_auto_rows": null,
            "grid_column": null,
            "grid_gap": null,
            "grid_row": null,
            "grid_template_areas": null,
            "grid_template_columns": null,
            "grid_template_rows": null,
            "height": null,
            "justify_content": null,
            "justify_items": null,
            "left": null,
            "margin": null,
            "max_height": null,
            "max_width": null,
            "min_height": null,
            "min_width": null,
            "object_fit": null,
            "object_position": null,
            "order": null,
            "overflow": null,
            "overflow_x": null,
            "overflow_y": null,
            "padding": null,
            "right": null,
            "top": null,
            "visibility": null,
            "width": null
          }
        },
        "6265248cfffe40108c74ca548f037dc7": {
          "model_module": "@jupyter-widgets/controls",
          "model_name": "SliderStyleModel",
          "model_module_version": "1.5.0",
          "state": {
            "_model_module": "@jupyter-widgets/controls",
            "_model_module_version": "1.5.0",
            "_model_name": "SliderStyleModel",
            "_view_count": null,
            "_view_module": "@jupyter-widgets/base",
            "_view_module_version": "1.2.0",
            "_view_name": "StyleView",
            "description_width": "",
            "handle_color": null
          }
        },
        "e9486f461a1441d995147f1ad1381197": {
          "model_module": "@jupyter-widgets/base",
          "model_name": "LayoutModel",
          "model_module_version": "1.2.0",
          "state": {
            "_model_module": "@jupyter-widgets/base",
            "_model_module_version": "1.2.0",
            "_model_name": "LayoutModel",
            "_view_count": null,
            "_view_module": "@jupyter-widgets/base",
            "_view_module_version": "1.2.0",
            "_view_name": "LayoutView",
            "align_content": null,
            "align_items": null,
            "align_self": null,
            "border": null,
            "bottom": null,
            "display": null,
            "flex": null,
            "flex_flow": null,
            "grid_area": null,
            "grid_auto_columns": null,
            "grid_auto_flow": null,
            "grid_auto_rows": null,
            "grid_column": null,
            "grid_gap": null,
            "grid_row": null,
            "grid_template_areas": null,
            "grid_template_columns": null,
            "grid_template_rows": null,
            "height": null,
            "justify_content": null,
            "justify_items": null,
            "left": null,
            "margin": null,
            "max_height": null,
            "max_width": null,
            "min_height": null,
            "min_width": null,
            "object_fit": null,
            "object_position": null,
            "order": null,
            "overflow": null,
            "overflow_x": null,
            "overflow_y": null,
            "padding": null,
            "right": null,
            "top": null,
            "visibility": null,
            "width": null
          }
        },
        "7193bb2a9d964cb0891c7e651e7b9887": {
          "model_module": "@jupyter-widgets/controls",
          "model_name": "SliderStyleModel",
          "model_module_version": "1.5.0",
          "state": {
            "_model_module": "@jupyter-widgets/controls",
            "_model_module_version": "1.5.0",
            "_model_name": "SliderStyleModel",
            "_view_count": null,
            "_view_module": "@jupyter-widgets/base",
            "_view_module_version": "1.2.0",
            "_view_name": "StyleView",
            "description_width": "",
            "handle_color": null
          }
        },
        "92965923e03e4345984922d1b9f50728": {
          "model_module": "@jupyter-widgets/base",
          "model_name": "LayoutModel",
          "model_module_version": "1.2.0",
          "state": {
            "_model_module": "@jupyter-widgets/base",
            "_model_module_version": "1.2.0",
            "_model_name": "LayoutModel",
            "_view_count": null,
            "_view_module": "@jupyter-widgets/base",
            "_view_module_version": "1.2.0",
            "_view_name": "LayoutView",
            "align_content": null,
            "align_items": null,
            "align_self": null,
            "border": null,
            "bottom": null,
            "display": null,
            "flex": null,
            "flex_flow": null,
            "grid_area": null,
            "grid_auto_columns": null,
            "grid_auto_flow": null,
            "grid_auto_rows": null,
            "grid_column": null,
            "grid_gap": null,
            "grid_row": null,
            "grid_template_areas": null,
            "grid_template_columns": null,
            "grid_template_rows": null,
            "height": null,
            "justify_content": null,
            "justify_items": null,
            "left": null,
            "margin": null,
            "max_height": null,
            "max_width": null,
            "min_height": null,
            "min_width": null,
            "object_fit": null,
            "object_position": null,
            "order": null,
            "overflow": null,
            "overflow_x": null,
            "overflow_y": null,
            "padding": null,
            "right": null,
            "top": null,
            "visibility": null,
            "width": null
          }
        },
        "6d68c088274d4c65973b2e7fb20fcdd0": {
          "model_module": "@jupyter-widgets/controls",
          "model_name": "VBoxModel",
          "model_module_version": "1.5.0",
          "state": {
            "_dom_classes": [
              "widget-interact"
            ],
            "_model_module": "@jupyter-widgets/controls",
            "_model_module_version": "1.5.0",
            "_model_name": "VBoxModel",
            "_view_count": null,
            "_view_module": "@jupyter-widgets/controls",
            "_view_module_version": "1.5.0",
            "_view_name": "VBoxView",
            "box_style": "",
            "children": [
              "IPY_MODEL_c3140390cdb04a9d95fc7af2ce9c86c2",
              "IPY_MODEL_3ddb7dabb90b401c8349d9652563ee17",
              "IPY_MODEL_aa0b0833b4894e32a71739e8731c4511"
            ],
            "layout": "IPY_MODEL_9661c407c94342ea9e0b199f1a8de4af"
          }
        },
        "c3140390cdb04a9d95fc7af2ce9c86c2": {
          "model_module": "@jupyter-widgets/controls",
          "model_name": "IntSliderModel",
          "model_module_version": "1.5.0",
          "state": {
            "_dom_classes": [],
            "_model_module": "@jupyter-widgets/controls",
            "_model_module_version": "1.5.0",
            "_model_name": "IntSliderModel",
            "_view_count": null,
            "_view_module": "@jupyter-widgets/controls",
            "_view_module_version": "1.5.0",
            "_view_name": "IntSliderView",
            "continuous_update": true,
            "description": "a1",
            "description_tooltip": null,
            "disabled": false,
            "layout": "IPY_MODEL_139e995bc943473daf4f6b2548a07d14",
            "max": 180,
            "min": -180,
            "orientation": "horizontal",
            "readout": true,
            "readout_format": "d",
            "step": 1,
            "style": "IPY_MODEL_72205653596d4dec9cd8b6c80de26ea8",
            "value": 0
          }
        },
        "3ddb7dabb90b401c8349d9652563ee17": {
          "model_module": "@jupyter-widgets/controls",
          "model_name": "IntSliderModel",
          "model_module_version": "1.5.0",
          "state": {
            "_dom_classes": [],
            "_model_module": "@jupyter-widgets/controls",
            "_model_module_version": "1.5.0",
            "_model_name": "IntSliderModel",
            "_view_count": null,
            "_view_module": "@jupyter-widgets/controls",
            "_view_module_version": "1.5.0",
            "_view_name": "IntSliderView",
            "continuous_update": true,
            "description": "a2",
            "description_tooltip": null,
            "disabled": false,
            "layout": "IPY_MODEL_f7dea744a8fb4f66869612a48843dcb5",
            "max": 180,
            "min": -180,
            "orientation": "horizontal",
            "readout": true,
            "readout_format": "d",
            "step": 1,
            "style": "IPY_MODEL_87d15451007042b69a2d72ed75a9994b",
            "value": 0
          }
        },
        "aa0b0833b4894e32a71739e8731c4511": {
          "model_module": "@jupyter-widgets/output",
          "model_name": "OutputModel",
          "model_module_version": "1.0.0",
          "state": {
            "_dom_classes": [],
            "_model_module": "@jupyter-widgets/output",
            "_model_module_version": "1.0.0",
            "_model_name": "OutputModel",
            "_view_count": null,
            "_view_module": "@jupyter-widgets/output",
            "_view_module_version": "1.0.0",
            "_view_name": "OutputView",
            "layout": "IPY_MODEL_aedd274b7c814a49bf3d24fea098080a",
            "msg_id": "",
            "outputs": [
              {
                "output_type": "display_data",
                "data": {
                  "text/plain": "<Figure size 1152x576 with 1 Axes>",
                  "image/png": "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\n"
                },
                "metadata": {
                  "needs_background": "light"
                }
              }
            ]
          }
        },
        "9661c407c94342ea9e0b199f1a8de4af": {
          "model_module": "@jupyter-widgets/base",
          "model_name": "LayoutModel",
          "model_module_version": "1.2.0",
          "state": {
            "_model_module": "@jupyter-widgets/base",
            "_model_module_version": "1.2.0",
            "_model_name": "LayoutModel",
            "_view_count": null,
            "_view_module": "@jupyter-widgets/base",
            "_view_module_version": "1.2.0",
            "_view_name": "LayoutView",
            "align_content": null,
            "align_items": null,
            "align_self": null,
            "border": null,
            "bottom": null,
            "display": null,
            "flex": null,
            "flex_flow": null,
            "grid_area": null,
            "grid_auto_columns": null,
            "grid_auto_flow": null,
            "grid_auto_rows": null,
            "grid_column": null,
            "grid_gap": null,
            "grid_row": null,
            "grid_template_areas": null,
            "grid_template_columns": null,
            "grid_template_rows": null,
            "height": null,
            "justify_content": null,
            "justify_items": null,
            "left": null,
            "margin": null,
            "max_height": null,
            "max_width": null,
            "min_height": null,
            "min_width": null,
            "object_fit": null,
            "object_position": null,
            "order": null,
            "overflow": null,
            "overflow_x": null,
            "overflow_y": null,
            "padding": null,
            "right": null,
            "top": null,
            "visibility": null,
            "width": null
          }
        },
        "139e995bc943473daf4f6b2548a07d14": {
          "model_module": "@jupyter-widgets/base",
          "model_name": "LayoutModel",
          "model_module_version": "1.2.0",
          "state": {
            "_model_module": "@jupyter-widgets/base",
            "_model_module_version": "1.2.0",
            "_model_name": "LayoutModel",
            "_view_count": null,
            "_view_module": "@jupyter-widgets/base",
            "_view_module_version": "1.2.0",
            "_view_name": "LayoutView",
            "align_content": null,
            "align_items": null,
            "align_self": null,
            "border": null,
            "bottom": null,
            "display": null,
            "flex": null,
            "flex_flow": null,
            "grid_area": null,
            "grid_auto_columns": null,
            "grid_auto_flow": null,
            "grid_auto_rows": null,
            "grid_column": null,
            "grid_gap": null,
            "grid_row": null,
            "grid_template_areas": null,
            "grid_template_columns": null,
            "grid_template_rows": null,
            "height": null,
            "justify_content": null,
            "justify_items": null,
            "left": null,
            "margin": null,
            "max_height": null,
            "max_width": null,
            "min_height": null,
            "min_width": null,
            "object_fit": null,
            "object_position": null,
            "order": null,
            "overflow": null,
            "overflow_x": null,
            "overflow_y": null,
            "padding": null,
            "right": null,
            "top": null,
            "visibility": null,
            "width": null
          }
        },
        "72205653596d4dec9cd8b6c80de26ea8": {
          "model_module": "@jupyter-widgets/controls",
          "model_name": "SliderStyleModel",
          "model_module_version": "1.5.0",
          "state": {
            "_model_module": "@jupyter-widgets/controls",
            "_model_module_version": "1.5.0",
            "_model_name": "SliderStyleModel",
            "_view_count": null,
            "_view_module": "@jupyter-widgets/base",
            "_view_module_version": "1.2.0",
            "_view_name": "StyleView",
            "description_width": "",
            "handle_color": null
          }
        },
        "f7dea744a8fb4f66869612a48843dcb5": {
          "model_module": "@jupyter-widgets/base",
          "model_name": "LayoutModel",
          "model_module_version": "1.2.0",
          "state": {
            "_model_module": "@jupyter-widgets/base",
            "_model_module_version": "1.2.0",
            "_model_name": "LayoutModel",
            "_view_count": null,
            "_view_module": "@jupyter-widgets/base",
            "_view_module_version": "1.2.0",
            "_view_name": "LayoutView",
            "align_content": null,
            "align_items": null,
            "align_self": null,
            "border": null,
            "bottom": null,
            "display": null,
            "flex": null,
            "flex_flow": null,
            "grid_area": null,
            "grid_auto_columns": null,
            "grid_auto_flow": null,
            "grid_auto_rows": null,
            "grid_column": null,
            "grid_gap": null,
            "grid_row": null,
            "grid_template_areas": null,
            "grid_template_columns": null,
            "grid_template_rows": null,
            "height": null,
            "justify_content": null,
            "justify_items": null,
            "left": null,
            "margin": null,
            "max_height": null,
            "max_width": null,
            "min_height": null,
            "min_width": null,
            "object_fit": null,
            "object_position": null,
            "order": null,
            "overflow": null,
            "overflow_x": null,
            "overflow_y": null,
            "padding": null,
            "right": null,
            "top": null,
            "visibility": null,
            "width": null
          }
        },
        "87d15451007042b69a2d72ed75a9994b": {
          "model_module": "@jupyter-widgets/controls",
          "model_name": "SliderStyleModel",
          "model_module_version": "1.5.0",
          "state": {
            "_model_module": "@jupyter-widgets/controls",
            "_model_module_version": "1.5.0",
            "_model_name": "SliderStyleModel",
            "_view_count": null,
            "_view_module": "@jupyter-widgets/base",
            "_view_module_version": "1.2.0",
            "_view_name": "StyleView",
            "description_width": "",
            "handle_color": null
          }
        },
        "aedd274b7c814a49bf3d24fea098080a": {
          "model_module": "@jupyter-widgets/base",
          "model_name": "LayoutModel",
          "model_module_version": "1.2.0",
          "state": {
            "_model_module": "@jupyter-widgets/base",
            "_model_module_version": "1.2.0",
            "_model_name": "LayoutModel",
            "_view_count": null,
            "_view_module": "@jupyter-widgets/base",
            "_view_module_version": "1.2.0",
            "_view_name": "LayoutView",
            "align_content": null,
            "align_items": null,
            "align_self": null,
            "border": null,
            "bottom": null,
            "display": null,
            "flex": null,
            "flex_flow": null,
            "grid_area": null,
            "grid_auto_columns": null,
            "grid_auto_flow": null,
            "grid_auto_rows": null,
            "grid_column": null,
            "grid_gap": null,
            "grid_row": null,
            "grid_template_areas": null,
            "grid_template_columns": null,
            "grid_template_rows": null,
            "height": null,
            "justify_content": null,
            "justify_items": null,
            "left": null,
            "margin": null,
            "max_height": null,
            "max_width": null,
            "min_height": null,
            "min_width": null,
            "object_fit": null,
            "object_position": null,
            "order": null,
            "overflow": null,
            "overflow_x": null,
            "overflow_y": null,
            "padding": null,
            "right": null,
            "top": null,
            "visibility": null,
            "width": null
          }
        },
        "5f3616bd5cd04a0e9db4fd864cd11d47": {
          "model_module": "@jupyter-widgets/controls",
          "model_name": "VBoxModel",
          "model_module_version": "1.5.0",
          "state": {
            "_dom_classes": [
              "widget-interact"
            ],
            "_model_module": "@jupyter-widgets/controls",
            "_model_module_version": "1.5.0",
            "_model_name": "VBoxModel",
            "_view_count": null,
            "_view_module": "@jupyter-widgets/controls",
            "_view_module_version": "1.5.0",
            "_view_name": "VBoxView",
            "box_style": "",
            "children": [
              "IPY_MODEL_fc24fae1648644799cea4152142a9c30",
              "IPY_MODEL_98aa866d2ce443f68abe33aee1e9256f",
              "IPY_MODEL_a3bd2e0167ff4775a6cb2472659006b1",
              "IPY_MODEL_c0c27895aad241609ade66cf7dc5c6b4"
            ],
            "layout": "IPY_MODEL_b711cfefa3a14cb5917820e50a4b15d0"
          }
        },
        "fc24fae1648644799cea4152142a9c30": {
          "model_module": "@jupyter-widgets/controls",
          "model_name": "IntSliderModel",
          "model_module_version": "1.5.0",
          "state": {
            "_dom_classes": [],
            "_model_module": "@jupyter-widgets/controls",
            "_model_module_version": "1.5.0",
            "_model_name": "IntSliderModel",
            "_view_count": null,
            "_view_module": "@jupyter-widgets/controls",
            "_view_module_version": "1.5.0",
            "_view_name": "IntSliderView",
            "continuous_update": true,
            "description": "a1",
            "description_tooltip": null,
            "disabled": false,
            "layout": "IPY_MODEL_a2e1afd3a9d84eeb959d30b2ac65ef15",
            "max": 90,
            "min": -90,
            "orientation": "horizontal",
            "readout": true,
            "readout_format": "d",
            "step": 1,
            "style": "IPY_MODEL_d6d1760480094706a5d236c0e68eb7b4",
            "value": 36
          }
        },
        "98aa866d2ce443f68abe33aee1e9256f": {
          "model_module": "@jupyter-widgets/controls",
          "model_name": "IntSliderModel",
          "model_module_version": "1.5.0",
          "state": {
            "_dom_classes": [],
            "_model_module": "@jupyter-widgets/controls",
            "_model_module_version": "1.5.0",
            "_model_name": "IntSliderModel",
            "_view_count": null,
            "_view_module": "@jupyter-widgets/controls",
            "_view_module_version": "1.5.0",
            "_view_name": "IntSliderView",
            "continuous_update": true,
            "description": "a2",
            "description_tooltip": null,
            "disabled": false,
            "layout": "IPY_MODEL_4be3a1695f46426c9f61b2f36395a68d",
            "max": 90,
            "min": -90,
            "orientation": "horizontal",
            "readout": true,
            "readout_format": "d",
            "step": 1,
            "style": "IPY_MODEL_43a8ca7f75a640fd9b216e983077ef9e",
            "value": 36
          }
        },
        "a3bd2e0167ff4775a6cb2472659006b1": {
          "model_module": "@jupyter-widgets/controls",
          "model_name": "IntSliderModel",
          "model_module_version": "1.5.0",
          "state": {
            "_dom_classes": [],
            "_model_module": "@jupyter-widgets/controls",
            "_model_module_version": "1.5.0",
            "_model_name": "IntSliderModel",
            "_view_count": null,
            "_view_module": "@jupyter-widgets/controls",
            "_view_module_version": "1.5.0",
            "_view_name": "IntSliderView",
            "continuous_update": true,
            "description": "a_ee",
            "description_tooltip": null,
            "disabled": false,
            "layout": "IPY_MODEL_6df263853cd54a79b29c7e5998c1b5ba",
            "max": 90,
            "min": -90,
            "orientation": "horizontal",
            "readout": true,
            "readout_format": "d",
            "step": 1,
            "style": "IPY_MODEL_7a489f0af38a4f808af4fce38ff23198",
            "value": 52
          }
        },
        "c0c27895aad241609ade66cf7dc5c6b4": {
          "model_module": "@jupyter-widgets/output",
          "model_name": "OutputModel",
          "model_module_version": "1.0.0",
          "state": {
            "_dom_classes": [],
            "_model_module": "@jupyter-widgets/output",
            "_model_module_version": "1.0.0",
            "_model_name": "OutputModel",
            "_view_count": null,
            "_view_module": "@jupyter-widgets/output",
            "_view_module_version": "1.0.0",
            "_view_name": "OutputView",
            "layout": "IPY_MODEL_7c101044406f4d15b892bc2bc0c733fa",
            "msg_id": "",
            "outputs": [
              {
                "output_type": "display_data",
                "data": {
                  "text/plain": "<Figure size 1152x576 with 1 Axes>",
                  "image/png": "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\n"
                },
                "metadata": {
                  "needs_background": "light"
                }
              }
            ]
          }
        },
        "b711cfefa3a14cb5917820e50a4b15d0": {
          "model_module": "@jupyter-widgets/base",
          "model_name": "LayoutModel",
          "model_module_version": "1.2.0",
          "state": {
            "_model_module": "@jupyter-widgets/base",
            "_model_module_version": "1.2.0",
            "_model_name": "LayoutModel",
            "_view_count": null,
            "_view_module": "@jupyter-widgets/base",
            "_view_module_version": "1.2.0",
            "_view_name": "LayoutView",
            "align_content": null,
            "align_items": null,
            "align_self": null,
            "border": null,
            "bottom": null,
            "display": null,
            "flex": null,
            "flex_flow": null,
            "grid_area": null,
            "grid_auto_columns": null,
            "grid_auto_flow": null,
            "grid_auto_rows": null,
            "grid_column": null,
            "grid_gap": null,
            "grid_row": null,
            "grid_template_areas": null,
            "grid_template_columns": null,
            "grid_template_rows": null,
            "height": null,
            "justify_content": null,
            "justify_items": null,
            "left": null,
            "margin": null,
            "max_height": null,
            "max_width": null,
            "min_height": null,
            "min_width": null,
            "object_fit": null,
            "object_position": null,
            "order": null,
            "overflow": null,
            "overflow_x": null,
            "overflow_y": null,
            "padding": null,
            "right": null,
            "top": null,
            "visibility": null,
            "width": null
          }
        },
        "a2e1afd3a9d84eeb959d30b2ac65ef15": {
          "model_module": "@jupyter-widgets/base",
          "model_name": "LayoutModel",
          "model_module_version": "1.2.0",
          "state": {
            "_model_module": "@jupyter-widgets/base",
            "_model_module_version": "1.2.0",
            "_model_name": "LayoutModel",
            "_view_count": null,
            "_view_module": "@jupyter-widgets/base",
            "_view_module_version": "1.2.0",
            "_view_name": "LayoutView",
            "align_content": null,
            "align_items": null,
            "align_self": null,
            "border": null,
            "bottom": null,
            "display": null,
            "flex": null,
            "flex_flow": null,
            "grid_area": null,
            "grid_auto_columns": null,
            "grid_auto_flow": null,
            "grid_auto_rows": null,
            "grid_column": null,
            "grid_gap": null,
            "grid_row": null,
            "grid_template_areas": null,
            "grid_template_columns": null,
            "grid_template_rows": null,
            "height": null,
            "justify_content": null,
            "justify_items": null,
            "left": null,
            "margin": null,
            "max_height": null,
            "max_width": null,
            "min_height": null,
            "min_width": null,
            "object_fit": null,
            "object_position": null,
            "order": null,
            "overflow": null,
            "overflow_x": null,
            "overflow_y": null,
            "padding": null,
            "right": null,
            "top": null,
            "visibility": null,
            "width": null
          }
        },
        "d6d1760480094706a5d236c0e68eb7b4": {
          "model_module": "@jupyter-widgets/controls",
          "model_name": "SliderStyleModel",
          "model_module_version": "1.5.0",
          "state": {
            "_model_module": "@jupyter-widgets/controls",
            "_model_module_version": "1.5.0",
            "_model_name": "SliderStyleModel",
            "_view_count": null,
            "_view_module": "@jupyter-widgets/base",
            "_view_module_version": "1.2.0",
            "_view_name": "StyleView",
            "description_width": "",
            "handle_color": null
          }
        },
        "4be3a1695f46426c9f61b2f36395a68d": {
          "model_module": "@jupyter-widgets/base",
          "model_name": "LayoutModel",
          "model_module_version": "1.2.0",
          "state": {
            "_model_module": "@jupyter-widgets/base",
            "_model_module_version": "1.2.0",
            "_model_name": "LayoutModel",
            "_view_count": null,
            "_view_module": "@jupyter-widgets/base",
            "_view_module_version": "1.2.0",
            "_view_name": "LayoutView",
            "align_content": null,
            "align_items": null,
            "align_self": null,
            "border": null,
            "bottom": null,
            "display": null,
            "flex": null,
            "flex_flow": null,
            "grid_area": null,
            "grid_auto_columns": null,
            "grid_auto_flow": null,
            "grid_auto_rows": null,
            "grid_column": null,
            "grid_gap": null,
            "grid_row": null,
            "grid_template_areas": null,
            "grid_template_columns": null,
            "grid_template_rows": null,
            "height": null,
            "justify_content": null,
            "justify_items": null,
            "left": null,
            "margin": null,
            "max_height": null,
            "max_width": null,
            "min_height": null,
            "min_width": null,
            "object_fit": null,
            "object_position": null,
            "order": null,
            "overflow": null,
            "overflow_x": null,
            "overflow_y": null,
            "padding": null,
            "right": null,
            "top": null,
            "visibility": null,
            "width": null
          }
        },
        "43a8ca7f75a640fd9b216e983077ef9e": {
          "model_module": "@jupyter-widgets/controls",
          "model_name": "SliderStyleModel",
          "model_module_version": "1.5.0",
          "state": {
            "_model_module": "@jupyter-widgets/controls",
            "_model_module_version": "1.5.0",
            "_model_name": "SliderStyleModel",
            "_view_count": null,
            "_view_module": "@jupyter-widgets/base",
            "_view_module_version": "1.2.0",
            "_view_name": "StyleView",
            "description_width": "",
            "handle_color": null
          }
        },
        "6df263853cd54a79b29c7e5998c1b5ba": {
          "model_module": "@jupyter-widgets/base",
          "model_name": "LayoutModel",
          "model_module_version": "1.2.0",
          "state": {
            "_model_module": "@jupyter-widgets/base",
            "_model_module_version": "1.2.0",
            "_model_name": "LayoutModel",
            "_view_count": null,
            "_view_module": "@jupyter-widgets/base",
            "_view_module_version": "1.2.0",
            "_view_name": "LayoutView",
            "align_content": null,
            "align_items": null,
            "align_self": null,
            "border": null,
            "bottom": null,
            "display": null,
            "flex": null,
            "flex_flow": null,
            "grid_area": null,
            "grid_auto_columns": null,
            "grid_auto_flow": null,
            "grid_auto_rows": null,
            "grid_column": null,
            "grid_gap": null,
            "grid_row": null,
            "grid_template_areas": null,
            "grid_template_columns": null,
            "grid_template_rows": null,
            "height": null,
            "justify_content": null,
            "justify_items": null,
            "left": null,
            "margin": null,
            "max_height": null,
            "max_width": null,
            "min_height": null,
            "min_width": null,
            "object_fit": null,
            "object_position": null,
            "order": null,
            "overflow": null,
            "overflow_x": null,
            "overflow_y": null,
            "padding": null,
            "right": null,
            "top": null,
            "visibility": null,
            "width": null
          }
        },
        "7a489f0af38a4f808af4fce38ff23198": {
          "model_module": "@jupyter-widgets/controls",
          "model_name": "SliderStyleModel",
          "model_module_version": "1.5.0",
          "state": {
            "_model_module": "@jupyter-widgets/controls",
            "_model_module_version": "1.5.0",
            "_model_name": "SliderStyleModel",
            "_view_count": null,
            "_view_module": "@jupyter-widgets/base",
            "_view_module_version": "1.2.0",
            "_view_name": "StyleView",
            "description_width": "",
            "handle_color": null
          }
        },
        "7c101044406f4d15b892bc2bc0c733fa": {
          "model_module": "@jupyter-widgets/base",
          "model_name": "LayoutModel",
          "model_module_version": "1.2.0",
          "state": {
            "_model_module": "@jupyter-widgets/base",
            "_model_module_version": "1.2.0",
            "_model_name": "LayoutModel",
            "_view_count": null,
            "_view_module": "@jupyter-widgets/base",
            "_view_module_version": "1.2.0",
            "_view_name": "LayoutView",
            "align_content": null,
            "align_items": null,
            "align_self": null,
            "border": null,
            "bottom": null,
            "display": null,
            "flex": null,
            "flex_flow": null,
            "grid_area": null,
            "grid_auto_columns": null,
            "grid_auto_flow": null,
            "grid_auto_rows": null,
            "grid_column": null,
            "grid_gap": null,
            "grid_row": null,
            "grid_template_areas": null,
            "grid_template_columns": null,
            "grid_template_rows": null,
            "height": null,
            "justify_content": null,
            "justify_items": null,
            "left": null,
            "margin": null,
            "max_height": null,
            "max_width": null,
            "min_height": null,
            "min_width": null,
            "object_fit": null,
            "object_position": null,
            "order": null,
            "overflow": null,
            "overflow_x": null,
            "overflow_y": null,
            "padding": null,
            "right": null,
            "top": null,
            "visibility": null,
            "width": null
          }
        }
      }
    }
  },
  "cells": [
    {
      "cell_type": "code",
      "execution_count": null,
      "metadata": {
        "id": "mbgTupDQ1f3n"
      },
      "outputs": [],
      "source": [
        "%matplotlib inline\n",
        "import matplotlib.pylab as plt\n",
        "from matplotlib.pyplot import figure\n",
        "import numpy as np\n",
        "from ipywidgets import interact\n",
        "import sympy as sym\n",
        "sym.init_printing(True)"
      ]
    },
    {
      "cell_type": "markdown",
      "source": [
        "# **Python Tutorial**\n",
        "\n",
        "Python is a popular, high-level, interpreted programming language known for its clear and concise syntax. It supports multiple programming paradigms and is widely used in various fields such as web development, scientific computing, data analysis, and AI. It has a large community of users and developers and is supported by numerous open-source libraries.\n",
        "\n",
        "<br />\n",
        "\n",
        "---\n",
        "this is a **really really basic** python crash course. there is more to learn but we will teach what we need for this project.\n",
        "\n",
        "**feel free to reach out to the officers if you need any help with python**\n",
        "\n",
        "you may skip this part if you know python already."
      ],
      "metadata": {
        "id": "XrrNx_YX5xb0"
      }
    },
    {
      "cell_type": "markdown",
      "source": [
        "**syntax**\n",
        "\n",
        "python gets rid of a lot of clutter compared to other langauges.\n",
        "\n",
        "it relies on proper indentation of 1 tab or 4 spaces for each child code\n",
        "\n",
        "<br />\n",
        "\n",
        "*these are right*\n",
        "\n",
        "```\n",
        "if(condition):\n",
        "    print(hello)\n",
        "```\n",
        "\n",
        "```\n",
        "print(hello)\n",
        "print(world)\n",
        "```\n",
        "\n",
        "*these are wrong*\n",
        "\n",
        "```\n",
        "if(condition):\n",
        "      print(hello)\n",
        "```\n",
        "\n",
        "```\n",
        "if(condition):\n",
        "print(hello)\n",
        "```\n",
        "\n",
        "```\n",
        "  print(hello)\n",
        "print(world)\n",
        "```"
      ],
      "metadata": {
        "id": "xwit_yd72cfO"
      }
    },
    {
      "cell_type": "markdown",
      "source": [
        "**dynamic typing**\n",
        "\n",
        "unlike C/C++, variables can have different types and dont have to be declared with a type and their type can change if a value with different type is assigned. functions can retreieve different variable types as parameters."
      ],
      "metadata": {
        "id": "NNP7nlXQ5vaq"
      }
    },
    {
      "cell_type": "code",
      "source": [
        "myVar = 10 #int\n",
        "print(type(myVar))\n",
        "\n",
        "myVar = 5.5 #float\n",
        "print(type(myVar))\n",
        "\n",
        "myVar = \"Hello\" #string\n",
        "print(type(myVar))\n",
        "\n",
        "myVar = [1, 2, 3, 4] #list\n",
        "print(type(myVar))\n",
        "\n",
        "myVar = {\"name\": \"John\", \"age\": 30} #dictionary\n",
        "print(type(myVar))"
      ],
      "metadata": {
        "id": "ewbKYmz653g9",
        "colab": {
          "base_uri": "https://localhost:8080/"
        },
        "outputId": "6f0ca8ac-19d9-448b-8e89-9c7d4a5217c9"
      },
      "execution_count": null,
      "outputs": [
        {
          "output_type": "stream",
          "name": "stdout",
          "text": [
            "<class 'int'>\n",
            "<class 'float'>\n",
            "<class 'str'>\n",
            "<class 'list'>\n",
            "<class 'dict'>\n"
          ]
        }
      ]
    },
    {
      "cell_type": "markdown",
      "source": [
        "**basic math**\n",
        "\n",
        "basic math in python follows PEMDAS in most cases.\n",
        "\n",
        "exponent is `base ** exponent`\n",
        "\n",
        "multiplication is `a * b`\n",
        "\n",
        "division is `a / b`\n",
        "\n",
        "addition is `a + b`\n",
        "\n",
        "subtraction is `a - b`\n",
        "\n",
        "if there is same operation precedence in an equation, it will go left to right.\n",
        "\n",
        "for example, `a * b / c * d`, it will do `a * b` then `/ c` then `* d`"
      ],
      "metadata": {
        "id": "4Wr9-krkwe_u"
      }
    },
    {
      "cell_type": "markdown",
      "source": [
        "# **Basic NumPy Tutorial**\n",
        "NumPy is a Python library for numerical computing that provides support for arrays and matrices. It offers a large collection of high-level mathematical functions to operate on these arrays and matrices. It is widely used in data science and scientific computing, as well as for creating and manipulating large, multi-dimensional arrays and matrices.\n",
        "\n",
        "<br />\n",
        "\n",
        "---\n",
        "\n",
        "this is a **really really basic** numpy crash course.\n",
        "\n",
        "**feel free to reach out to the officers if you need any help with numpy**\n",
        "\n",
        "numpy will have the prefix `np.` on this project.\n",
        "\n",
        "you may skip this part if you know numpy already.\n"
      ],
      "metadata": {
        "id": "86facpbY7Fx4"
      }
    },
    {
      "cell_type": "markdown",
      "source": [
        "**numpy constants**\n",
        "\n",
        "numpy has constants such as `np.pi` for π which we can call\n",
        "\n",
        "all numpy constants can be viewed [here](https://bit.ly/np_const)"
      ],
      "metadata": {
        "id": "ebfKZYogMvti"
      }
    },
    {
      "cell_type": "code",
      "source": [
        "print(f'numpy pi: {np.pi}')"
      ],
      "metadata": {
        "id": "2PjiNWyRMzOr",
        "colab": {
          "base_uri": "https://localhost:8080/"
        },
        "outputId": "0db28cab-0b58-42ac-de6b-3fc88d5d52b9"
      },
      "execution_count": null,
      "outputs": [
        {
          "output_type": "stream",
          "name": "stdout",
          "text": [
            "numpy pi: 3.141592653589793\n"
          ]
        }
      ]
    },
    {
      "cell_type": "markdown",
      "source": [
        "**math functions**\n",
        "\n",
        "numpy has math functions that can be useful for calculations\n",
        "\n",
        "all numpy math functions can be viewed [here](https://bit.ly/np_math)"
      ],
      "metadata": {
        "id": "DjC4cowOZMjg"
      }
    },
    {
      "cell_type": "code",
      "source": [
        "sine = np.sin(np.pi / 2)\n",
        "d2r = np.deg2rad(30)\n",
        "r2d = np.rad2deg(np.pi)\n",
        "print(f'numpy sine: {sine}')\n",
        "print(f'numpy deg to rads: {d2r}')\n",
        "print(f'numpy rads to deg: {r2d}')"
      ],
      "metadata": {
        "id": "VGt0_UxVZSL2",
        "colab": {
          "base_uri": "https://localhost:8080/"
        },
        "outputId": "b5aab554-6a50-4c69-b13b-ffb74a757efe"
      },
      "execution_count": null,
      "outputs": [
        {
          "output_type": "stream",
          "name": "stdout",
          "text": [
            "numpy sine: 1.0\n",
            "numpy deg to rads: 0.5235987755982988\n",
            "numpy rads to deg: 180.0\n"
          ]
        }
      ]
    },
    {
      "cell_type": "markdown",
      "source": [
        "**matrices in numpy**\n",
        "\n",
        "We can create matrices in numpy.\n",
        "\n",
        "\\begin{bmatrix}a&b&c\\\\d&e&f\\end{bmatrix}\n",
        "Matrix of 2x3 dimention can be written in numpy as\n",
        "```\n",
        "np.matrix([[a, b, c],\n",
        "           [d, e, f]])\n",
        "```\n",
        "\n"
      ],
      "metadata": {
        "id": "u6CIxMEKZZz7"
      }
    },
    {
      "cell_type": "code",
      "source": [
        "# this creates a new variable matA and matB with 3x3 matrix\n",
        "matA = np.matrix([[1, 2, 3],\n",
        "                  [4, 5, 6],\n",
        "                  [7, 8, 9]])\n",
        "\n",
        "matB = np.matrix([[-1, 0, 1],\n",
        "                  [2, 3, -1],\n",
        "                  [4, 4, 1]])\n",
        "\n",
        "# this creates a new variable matC with 3x1 matrix\n",
        "matC = np.matrix([[3],\n",
        "                  [1],\n",
        "                  [0]])"
      ],
      "metadata": {
        "id": "2ly7L9NUbM5j"
      },
      "execution_count": null,
      "outputs": []
    },
    {
      "cell_type": "markdown",
      "source": [
        "**indexing numpy matrices**\n",
        "\n",
        "***⚠ index starts from 0 in python!***\n",
        "\n",
        "to get $n_{ij}$th element from $matrix \\ A$, you can use\n",
        "\n",
        "\n",
        "```\n",
        "n = matA[i, j]\n",
        "```\n",
        "\n",
        "to store $10$ into $n_{ij}$th element from $matrix \\ A$, you can use\n",
        "\n",
        "```\n",
        "matA[i, j] = 10\n",
        "```\n",
        "\n",
        "you can get a sub-matrix of a matrix as\n",
        "\n",
        "$\\begin{bmatrix}a&b&c\\\\d&e&f\\\\g&h&i\\end{bmatrix} \\quad \\rightarrow \\quad \\begin{bmatrix}e&f\\\\h&i\\end{bmatrix}$\n",
        "\n",
        "```\n",
        "subMat = matA[1:3, 1:3]\n",
        "```\n",
        "matrix[range of rows, range of column]\n",
        "\n",
        "range = [inclusive lower : exclusive upper ]\n"
      ],
      "metadata": {
        "id": "fKGk1W6VjJIQ"
      }
    },
    {
      "cell_type": "code",
      "source": [
        "print(matA[0:2])\n",
        "print(matA[1:3, 1:3]) # try changing the values"
      ],
      "metadata": {
        "id": "1Q5i617MHK6j",
        "colab": {
          "base_uri": "https://localhost:8080/"
        },
        "outputId": "9864ccc3-9d6a-409b-c4bf-3a540845b85d"
      },
      "execution_count": null,
      "outputs": [
        {
          "output_type": "stream",
          "name": "stdout",
          "text": [
            "[[1 2 3]\n",
            " [4 5 6]]\n",
            "[[5 6]\n",
            " [8 9]]\n"
          ]
        }
      ]
    },
    {
      "cell_type": "markdown",
      "source": [
        "**matrix operations**\n",
        "\n",
        "you can add, subtract, and mulitply matrices as such\n",
        "\n",
        "\n",
        "```\n",
        "# addition\n",
        "matA + matB\n",
        "\n",
        "#subtraction\n",
        "matA - matB\n",
        "\n",
        "#multiplication\n",
        "number * matA\n",
        "matA * matC\n",
        "```\n",
        "\n"
      ],
      "metadata": {
        "id": "jJvmgpalbTRa"
      }
    },
    {
      "cell_type": "code",
      "source": [
        "print('addition')\n",
        "print(matA + matB)\n",
        "\n",
        "print('\\nsubtraction')\n",
        "print(matA - matB)\n",
        "\n",
        "print('\\nmultiplication by constant')\n",
        "print(5 * matA)\n",
        "\n",
        "print('\\nmatrix multiplication')\n",
        "print(matA * matC)"
      ],
      "metadata": {
        "id": "c3Glwq2mbgOy",
        "colab": {
          "base_uri": "https://localhost:8080/"
        },
        "outputId": "bd76fdfc-d91d-41a2-e2b0-78b17497c1ac"
      },
      "execution_count": null,
      "outputs": [
        {
          "output_type": "stream",
          "name": "stdout",
          "text": [
            "addition\n",
            "[[ 0  2  4]\n",
            " [ 6  8  5]\n",
            " [11 12 10]]\n",
            "\n",
            "subtraction\n",
            "[[2 2 2]\n",
            " [2 2 7]\n",
            " [3 4 8]]\n",
            "\n",
            "multiplication by constant\n",
            "[[ 5 10 15]\n",
            " [20 25 30]\n",
            " [35 40 45]]\n",
            "\n",
            "matrix multiplication\n",
            "[[ 5]\n",
            " [17]\n",
            " [29]]\n"
          ]
        }
      ]
    },
    {
      "cell_type": "markdown",
      "source": [
        "you can transpose a matrix by\n",
        "\n",
        "$A = \\begin{bmatrix}a&b&c\\end{bmatrix} \\quad \\textrm{ into } \\quad  A^{T} = \\begin{bmatrix}a\\\\b\\\\c\\end{bmatrix}$\n",
        "\n",
        "```\n",
        "np.matrix([a, b, c]).T\n",
        "```\n",
        "\n"
      ],
      "metadata": {
        "id": "juebRng4b7Fk"
      }
    },
    {
      "cell_type": "code",
      "source": [
        "matCT = matC.T\n",
        "print('matrix transpose')\n",
        "print(matCT)"
      ],
      "metadata": {
        "id": "n8XqFl7geqXr",
        "colab": {
          "base_uri": "https://localhost:8080/"
        },
        "outputId": "d2621b31-3b7e-462d-8a4f-531949f74d9f"
      },
      "execution_count": null,
      "outputs": [
        {
          "output_type": "stream",
          "name": "stdout",
          "text": [
            "matrix transpose\n",
            "[[3 1 0]]\n"
          ]
        }
      ]
    },
    {
      "cell_type": "markdown",
      "source": [
        "**matrix concatenation**\n",
        "\n",
        "you can concat (join) matrices by\n",
        "\n",
        "$\\begin{bmatrix}a&b&c\\\\d&e&f\\end{bmatrix} \\quad \\textrm{concat with} \\quad  \\begin{bmatrix}g&h&i\\\\j&k&l\\end{bmatrix} = \\begin{bmatrix}a&b&c\\\\d&e&f\\\\g&h&i\\\\j&k&l\\end{bmatrix}$\n",
        "\n",
        "\n",
        "\n",
        "```\n",
        "np.concatenate((matA, matB, ..., matN))\n",
        "```\n",
        "\n",
        "\n"
      ],
      "metadata": {
        "id": "a00wpINtevd4"
      }
    },
    {
      "cell_type": "code",
      "source": [
        "conMat = np.concatenate((matA, matB))\n",
        "print('matrix concatenation')\n",
        "print(conMat)"
      ],
      "metadata": {
        "id": "615tJ1EOeup9",
        "colab": {
          "base_uri": "https://localhost:8080/"
        },
        "outputId": "d94b19e1-566e-4c3d-b93d-0ea2a8321159"
      },
      "execution_count": null,
      "outputs": [
        {
          "output_type": "stream",
          "name": "stdout",
          "text": [
            "matrix concatenation\n",
            "[[ 1  2  3]\n",
            " [ 4  5  6]\n",
            " [ 7  8  9]\n",
            " [-1  0  1]\n",
            " [ 2  3 -1]\n",
            " [ 4  4  1]]\n"
          ]
        }
      ]
    },
    {
      "cell_type": "markdown",
      "source": [
        "you can also concat in a different direction by\n",
        "\n",
        "$\\begin{bmatrix}a&b&c\\\\d&e&f\\end{bmatrix} \\quad \\textrm{concat with} \\quad \\begin{bmatrix}g&h&i\\\\j&k&l\\end{bmatrix} = \\begin{bmatrix}a&b&c&g&h&i\\\\d&e&f&j&k&l\\end{bmatrix}$\n",
        "\n",
        "```\n",
        "np.concatenate((matA, matB, ..., matN), axis=1)\n",
        "```"
      ],
      "metadata": {
        "id": "F7YqYD0MgKSQ"
      }
    },
    {
      "cell_type": "code",
      "source": [
        "conMat = np.concatenate((matA, matB), axis=1)\n",
        "print('matrix concatenation on axis 1')\n",
        "print(conMat)"
      ],
      "metadata": {
        "id": "MvfXRUXHglZ0",
        "colab": {
          "base_uri": "https://localhost:8080/"
        },
        "outputId": "b0442700-c2fd-48c6-e4fb-3aac7dc74793"
      },
      "execution_count": null,
      "outputs": [
        {
          "output_type": "stream",
          "name": "stdout",
          "text": [
            "matrix concatenation on axis 1\n",
            "[[ 1  2  3 -1  0  1]\n",
            " [ 4  5  6  2  3 -1]\n",
            " [ 7  8  9  4  4  1]]\n"
          ]
        }
      ]
    },
    {
      "cell_type": "markdown",
      "source": [
        "# **Robotic Arm Exercise #1**\n",
        "\n",
        "#### Note: There are 2 versions - one uses matricies and one that doesn't. If you're not comfortable using matricies yet, then complete the non-matrix version. However, if you'd like to challenge yourself, complete the matrix version.\n",
        "\n",
        "<br>\n",
        "\n",
        "#### **If you complete the non-matrix version before we move, try completing the matrix version!**\n",
        "\n",
        "<br>\n",
        "\n",
        "(Correct answers are below this exercise, but only look at them when you're done with your solution)"
      ],
      "metadata": {
        "id": "3S3dSb9d59QA"
      }
    },
    {
      "cell_type": "markdown",
      "source": [
        "### <u>**One Arm Non-Matrix Version**</u>"
      ],
      "metadata": {
        "id": "NUE0qv1i73L4"
      }
    },
    {
      "cell_type": "code",
      "source": [
        "\"\"\"\n",
        "Template version for 1 arm non-matricies version\n",
        "\"\"\"\n",
        "\n",
        "# Figure size\n",
        "plt.rcParams['figure.figsize'] = [16, 8]\n",
        "\n",
        "def plotXY(x, y):\n",
        "    # Plots x = xVal, y = yVal    so an uncolored circle for (xVal, yVal)\n",
        "    plt.scatter(x, y, s=200, facecolors='none', edgecolors='r')\n",
        "    # Plots a colored circle at origin\n",
        "    plt.scatter(0, 0, s=200, facecolors='r', edgecolors='r')\n",
        "    plt.plot([0, x], [0, y])\n",
        "    plt.axis('square')\n",
        "    plt.xlim([-5.5,5.5])\n",
        "    plt.ylim([-5.5,5.5])\n",
        "    return([ x, y ])\n",
        "\n",
        "def Robot_Simulator(angle=0):\n",
        "    # ** YOUR CODE HERE **\n",
        "\n",
        "    # Convert input angle (degrees) to radians\n",
        "    # a_radians = angle ... * CODE *\n",
        "    length = 4\n",
        "\n",
        "    # X/Y position of the robotic arm end point\n",
        "    # x = * CODE function of angle *\n",
        "    # y = * CODE function of angle *\n",
        "\n",
        "    return plotXY(x, y)\n",
        "\n",
        "p = interact(Robot_Simulator, angle=(-180,180,2))"
      ],
      "metadata": {
        "id": "K1aSEizA4J9V",
        "colab": {
          "base_uri": "https://localhost:8080/",
          "height": 533,
          "referenced_widgets": [
            "befc7e6f44f546e380df84ec7e4c7594",
            "589b78552a2d41f0908afae3169ec9ff",
            "ee6d7455a194412fb64daed457fbced9",
            "f5ff2a0d99f84154b0e0946bb90014ad",
            "b0516c0809b946f39573f9d8ad1b9224",
            "3d888be29c024ae286e35b05d014dccb",
            "7f49567520c24dbd93cd069ff41bd68f"
          ]
        },
        "outputId": "877c9ce3-eec1-4953-f39e-fe989c39098e"
      },
      "execution_count": null,
      "outputs": [
        {
          "output_type": "display_data",
          "data": {
            "text/plain": [
              "interactive(children=(IntSlider(value=0, description='angle', max=180, min=-180, step=2), Output()), _dom_clas…"
            ],
            "application/vnd.jupyter.widget-view+json": {
              "version_major": 2,
              "version_minor": 0,
              "model_id": "befc7e6f44f546e380df84ec7e4c7594"
            }
          },
          "metadata": {}
        }
      ]
    },
    {
      "cell_type": "markdown",
      "source": [
        "### <u>**One Arm Matrix Version**</u>"
      ],
      "metadata": {
        "id": "eCwxm7l-7cw7"
      }
    },
    {
      "cell_type": "code",
      "source": [
        "\"\"\"\n",
        "Template for 1 arm matricies version\n",
        "\"\"\"\n",
        "\n",
        "# Figure size\n",
        "plt.rcParams['figure.figsize'] = [16, 8]\n",
        "\n",
        "def plotMatrix(p):\n",
        "    # Plots x = xVal, y = yVal    so an uncolored circle for (xVal, yVal)\n",
        "    plt.scatter(p[0,:].tolist()[0][0],p[1,:].tolist()[0][0], s=200, facecolors='none', edgecolors='r')\n",
        "    # Plots a colored circle at origin\n",
        "    plt.scatter(0,0, s=200, facecolors='r', edgecolors='r')\n",
        "    plt.plot(p[0,:].tolist()[0],p[1,:].tolist()[0])\n",
        "    plt.axis('square')\n",
        "    plt.xlim([-5.5,5.5])\n",
        "    plt.ylim([-5.5,5.5])\n",
        "\n",
        "def Robot_Simulator(angle=0):\n",
        "    # Convert to radians\n",
        "    a_radians = angle * np.pi / 180\n",
        "\n",
        "    # d is a 1x2 matrix that represents initial arm position [[0], [x0]]\n",
        "    # d = ...\n",
        "\n",
        "    # R1 is a 2x2 matrix containing rotation angles\n",
        "    # R1 = ...\n",
        "\n",
        "    # Feel free to add print() statements to see what the output of your variables are\n",
        "\n",
        "    # R1 * d should output a [[x], [y]]\n",
        "    p = np.concatenate( ( R1 * d, np.matrix([0,0]).T), axis=1 )\n",
        "    # output should be in the form: [[x, 0], [y, 0]]   (2x2 matrix)\n",
        "    return plotMatrix(p)\n",
        "\n",
        "p = interact(Robot_Simulator, angle=(-180,180,2))"
      ],
      "metadata": {
        "id": "CN5C51Mp7MAD",
        "colab": {
          "base_uri": "https://localhost:8080/",
          "height": 515,
          "referenced_widgets": [
            "738c681face6408c9afbe0bbe5b1e8c3",
            "c7edabdf01604d708a461b092ccdd6b8",
            "a3b5aac1d0b44efcb7f6ac0111b51482",
            "2da716e518254cd59439c6cc8bd970ee",
            "c222a6a7058243f1a6b5f6c49cc61824",
            "7a2190be7f2b481d933e71d8a800821d",
            "b56c14bf30894c40a7bacb466be51a26"
          ]
        },
        "outputId": "a62327fb-d222-45b9-efc0-aa46cf60f70f"
      },
      "execution_count": null,
      "outputs": [
        {
          "output_type": "display_data",
          "data": {
            "text/plain": [
              "interactive(children=(IntSlider(value=0, description='angle', max=180, min=-180, step=2), Output()), _dom_clas…"
            ],
            "application/vnd.jupyter.widget-view+json": {
              "version_major": 2,
              "version_minor": 0,
              "model_id": "738c681face6408c9afbe0bbe5b1e8c3"
            }
          },
          "metadata": {}
        }
      ]
    },
    {
      "cell_type": "markdown",
      "source": [
        "\n",
        "---\n",
        "\n",
        "\n",
        "## **Correct Answers:**\n",
        "\n",
        "---\n",
        "\n"
      ],
      "metadata": {
        "id": "zoV1uqWF-1Qw"
      }
    },
    {
      "cell_type": "code",
      "source": [
        "#@title Correct Answer for 1 arm non-matricies version { display-mode: \"form\" }\n",
        "\"\"\"\n",
        "Correct Answer for 1 arm non-matricies version\n",
        "\"\"\"\n",
        "\n",
        "# Figure size\n",
        "plt.rcParams['figure.figsize'] = [16, 8]\n",
        "\n",
        "def plotXY(x, y):\n",
        "    # Plots x = xVal, y = yVal    so an uncolored circle for (xVal, yVal)\n",
        "    plt.scatter(x, y, s=200, facecolors='none', edgecolors='r')\n",
        "    # Plots a colored circle at origin\n",
        "    plt.scatter(0, 0, s=200, facecolors='r', edgecolors='r')\n",
        "    plt.plot([0, x], [0, y])\n",
        "    plt.axis('square')\n",
        "    plt.xlim([-5.5,5.5])\n",
        "    plt.ylim([-5.5,5.5])\n",
        "\n",
        "def Robot_Simulator(angle=0):\n",
        "    a_radians = angle/180  * np.pi\n",
        "    length = 4\n",
        "\n",
        "    x = length * np.cos(a_radians)\n",
        "    y = length * np.sin(a_radians)\n",
        "\n",
        "    return plotXY(x, y)\n",
        "\n",
        "p = interact(Robot_Simulator, angle=(-180,180,2))"
      ],
      "metadata": {
        "id": "w2zPC8Gm7DHC",
        "colab": {
          "base_uri": "https://localhost:8080/",
          "height": 240
        },
        "outputId": "d831827f-8b31-4aa3-d6b8-88e6a17af572"
      },
      "execution_count": null,
      "outputs": [
        {
          "output_type": "error",
          "ename": "NameError",
          "evalue": "ignored",
          "traceback": [
            "\u001b[0;31m---------------------------------------------------------------------------\u001b[0m",
            "\u001b[0;31mNameError\u001b[0m                                 Traceback (most recent call last)",
            "\u001b[0;32m<ipython-input-1-79cfb6afef45>\u001b[0m in \u001b[0;36m<cell line: 7>\u001b[0;34m()\u001b[0m\n\u001b[1;32m      5\u001b[0m \u001b[0;34m\u001b[0m\u001b[0m\n\u001b[1;32m      6\u001b[0m \u001b[0;31m# Figure size\u001b[0m\u001b[0;34m\u001b[0m\u001b[0;34m\u001b[0m\u001b[0m\n\u001b[0;32m----> 7\u001b[0;31m \u001b[0mplt\u001b[0m\u001b[0;34m.\u001b[0m\u001b[0mrcParams\u001b[0m\u001b[0;34m[\u001b[0m\u001b[0;34m'figure.figsize'\u001b[0m\u001b[0;34m]\u001b[0m \u001b[0;34m=\u001b[0m \u001b[0;34m[\u001b[0m\u001b[0;36m16\u001b[0m\u001b[0;34m,\u001b[0m \u001b[0;36m8\u001b[0m\u001b[0;34m]\u001b[0m\u001b[0;34m\u001b[0m\u001b[0;34m\u001b[0m\u001b[0m\n\u001b[0m\u001b[1;32m      8\u001b[0m \u001b[0;34m\u001b[0m\u001b[0m\n\u001b[1;32m      9\u001b[0m \u001b[0;32mdef\u001b[0m \u001b[0mplotXY\u001b[0m\u001b[0;34m(\u001b[0m\u001b[0mx\u001b[0m\u001b[0;34m,\u001b[0m \u001b[0my\u001b[0m\u001b[0;34m)\u001b[0m\u001b[0;34m:\u001b[0m\u001b[0;34m\u001b[0m\u001b[0;34m\u001b[0m\u001b[0m\n",
            "\u001b[0;31mNameError\u001b[0m: name 'plt' is not defined"
          ]
        }
      ]
    },
    {
      "cell_type": "code",
      "source": [
        "#@title Correct Answer for 1 arm matricies version { display-mode: \"form\" }\n",
        "\"\"\"\n",
        "Correct Answer for 1 arm matricies version\n",
        "\"\"\"\n",
        "\n",
        "# Figure size\n",
        "plt.rcParams['figure.figsize'] = [16, 8]\n",
        "\n",
        "def plotMatrix(p):\n",
        "    # Plots x = xVal, y = yVal    so an uncolored circle for (xVal, yVal)\n",
        "    plt.scatter(p[0,:].tolist()[0][0],p[1,:].tolist()[0][0], s=200, facecolors='none', edgecolors='r')\n",
        "    # Plots a colored circle at origin\n",
        "    plt.scatter(0,0, s=200, facecolors='r', edgecolors='r')\n",
        "    plt.plot(p[0,:].tolist()[0],p[1,:].tolist()[0])\n",
        "    plt.axis('square')\n",
        "    plt.xlim([-5.5,5.5])\n",
        "    plt.ylim([-5.5,5.5])\n",
        "\n",
        "def Robot_Simulator(angle=0):\n",
        "    a_radians = angle/180  * np.pi\n",
        "    d = np.matrix([0,4]).T\n",
        "    # d = np.matrix([[0], [4]])\n",
        "    R1 = np.matrix([[np.cos(a_radians), -np.sin(a_radians)],\n",
        "                    [np.sin(a_radians),  np.cos(a_radians)]])\n",
        "\n",
        "    p = np.concatenate( ( R1*d, np.matrix([0,0]).T), axis=1 )\n",
        "    return plotMatrix(p)\n",
        "\n",
        "p = interact(Robot_Simulator, angle=(-180,180,2))"
      ],
      "metadata": {
        "id": "YU_v-3CY8KV9"
      },
      "execution_count": null,
      "outputs": []
    },
    {
      "cell_type": "markdown",
      "source": [
        "# **Robotic Arm Exercise #2 - Second Arm**\n",
        "\n",
        "#### Note: There are 2 versions - one uses matricies and one that doesn't. If you're not comfortable using matricies yet, then complete the non-matrix version. However, if you'd like to challenge yourself, complete the matrix version.\n",
        "\n",
        "<br>\n",
        "\n",
        "#### **If you complete the non-matrix version before we move, try completing the matrix version!**\n",
        "\n",
        "<br>\n",
        "\n",
        "(Correct answers are below this exercise, but only look at them when you're done with your solution)"
      ],
      "metadata": {
        "id": "uE-bM8Bh82S4"
      }
    },
    {
      "cell_type": "code",
      "source": [
        "\"\"\"\n",
        "Template for the 2 arm non-matrix version\n",
        "\"\"\"\n",
        "\n",
        "from ipywidgets import interact\n",
        "\n",
        "# Figure size\n",
        "plt.rcParams['figure.figsize'] = [16, 8]\n",
        "\n",
        "def plotMatrix(p):\n",
        "    # Plots x = xVal, y = yVal    so an uncolored circle for (xVal, yVal)\n",
        "    plt.scatter(p[0,:].tolist()[0],p[1,:].tolist()[0], s=30, facecolors='none', edgecolors='r')\n",
        "    plt.scatter(0,0, s=30, facecolors='r', edgecolors='r')\n",
        "    plt.plot(p[0,:].tolist()[0],p[1,:].tolist()[0])\n",
        "    plt.axis('scaled')\n",
        "    plt.xlim([-10,10])\n",
        "    plt.ylim([-10,10])\n",
        "\n",
        "def Robot_Simulator(a1, a2):\n",
        "    a1_radians = a1/180  * np.pi\n",
        "    a2_radians = a2/180  * np.pi\n",
        "\n",
        "    # Arms Length\n",
        "    d1 = np.matrix([0,4]).T\n",
        "    d2 = np.matrix([0,4]).T\n",
        "\n",
        "    # Base arm - basically the same thing we did in previous exercises\n",
        "    # x1 = ...\n",
        "    # y1 = ...\n",
        "\n",
        "    # Upper arm\n",
        "    # x2 = ...\n",
        "    # y2 = ...\n",
        "\n",
        "    results = np.array([[x1, y1], [x2, y2]])\n",
        "    p = np.concatenate( (results, np.matrix([0,0]).T), axis=1 )\n",
        "    return plotMatrix(p)\n",
        "\n",
        "target = interact(Robot_Simulator, a1=(-180,180), a2=(-180,180))"
      ],
      "metadata": {
        "id": "M9oUTo7Z_Ua4",
        "colab": {
          "base_uri": "https://localhost:8080/",
          "height": 427,
          "referenced_widgets": [
            "54fb806c51974eaf94e9cdec6a49890b",
            "d2416d6cd1174b30979ed2c788320989",
            "873e68d11db34420ae2608931a9e3bd1",
            "9c554e0d7b474cfcb2d70eb4a524a7ee",
            "9c372fa5eaf742f2aa54501a9ae9b04e",
            "ce4930e57553492f948c57a027769595",
            "76f67dc50fe14db0a093ea1bb4cf3bf7",
            "c7e6129a7c324aeeb9b765e5494ecda1",
            "9e5ad79980af41caa6941e049b61891f",
            "ab3c8871cd064e878b3d42ac7c7d5287"
          ]
        },
        "outputId": "77bdaf0a-98cf-4068-82d3-450abd74fd91"
      },
      "execution_count": null,
      "outputs": [
        {
          "output_type": "display_data",
          "data": {
            "text/plain": [
              "interactive(children=(IntSlider(value=0, description='a1', max=180, min=-180), IntSlider(value=0, description=…"
            ],
            "application/vnd.jupyter.widget-view+json": {
              "version_major": 2,
              "version_minor": 0,
              "model_id": "54fb806c51974eaf94e9cdec6a49890b"
            }
          },
          "metadata": {}
        }
      ]
    },
    {
      "cell_type": "code",
      "source": [
        "\"\"\"\n",
        "Template for the 2 arm matrix version\n",
        "\"\"\"\n",
        "\n",
        "from ipywidgets import interact\n",
        "\n",
        "# Figure size\n",
        "plt.rcParams['figure.figsize'] = [16, 8]\n",
        "\n",
        "def plotMatrix(p):\n",
        "    # Plots x = xVal, y = yVal    so an uncolored circle for (xVal, yVal)\n",
        "    plt.scatter(p[0,:].tolist()[0],p[1,:].tolist()[0], s=30, facecolors='none', edgecolors='r')\n",
        "    plt.scatter(0,0, s=30, facecolors='r', edgecolors='r')\n",
        "    plt.plot(p[0,:].tolist()[0],p[1,:].tolist()[0])\n",
        "    plt.axis('scaled')\n",
        "    plt.xlim([-10,10])\n",
        "    plt.ylim([-10,10])\n",
        "\n",
        "def Robot_Simulator(a1, a2):\n",
        "    a1_radians = a1/180  * np.pi\n",
        "    a2_radians = a2/180  * np.pi\n",
        "\n",
        "    # Arms Initial position\n",
        "    d1 = np.matrix([0,4]).T\n",
        "    d2 = np.matrix([0,4]).T\n",
        "\n",
        "    # Rotation Matricies (2x2 matrix with angle transformations)\n",
        "    # R2 = ...\n",
        "    # R1 = ...\n",
        "\n",
        "    # L1 should be in the form: [[x1], [y1]]\n",
        "    # L2 should be in the form: [[x2], [x2]]\n",
        "\n",
        "    # Resulting Positions:\n",
        "    # L1 = ...\n",
        "    # L2 = ...\n",
        "\n",
        "\n",
        "    p = np.concatenate( (L2, L1, np.matrix([0,0]).T), axis=1 )\n",
        "    return plotMatrix(p)\n",
        "\n",
        "target = interact(Robot_Simulator, a1=(-180,180), a2=(-180,180))"
      ],
      "metadata": {
        "id": "-Qozswsa9Fyd",
        "colab": {
          "base_uri": "https://localhost:8080/",
          "height": 551,
          "referenced_widgets": [
            "dbffd2b216cd4ae7b8fc538313b23274",
            "77881e2cf45b430ea87facd1c47db983",
            "6768f1488b48494d9fc2bfd4eea9a1ed",
            "9c597a2de16141dbbf9a1bff3575f417",
            "337cc3e186194cb79deb610d61d72d1e",
            "b7b1697cc960486795072c984dc60169",
            "6265248cfffe40108c74ca548f037dc7",
            "e9486f461a1441d995147f1ad1381197",
            "7193bb2a9d964cb0891c7e651e7b9887",
            "92965923e03e4345984922d1b9f50728"
          ]
        },
        "outputId": "c97bf018-c533-47f6-beeb-851b72ae8900"
      },
      "execution_count": null,
      "outputs": [
        {
          "output_type": "display_data",
          "data": {
            "text/plain": [
              "interactive(children=(IntSlider(value=0, description='a1', max=180, min=-180), IntSlider(value=0, description=…"
            ],
            "application/vnd.jupyter.widget-view+json": {
              "version_major": 2,
              "version_minor": 0,
              "model_id": "dbffd2b216cd4ae7b8fc538313b23274"
            }
          },
          "metadata": {}
        }
      ]
    },
    {
      "cell_type": "markdown",
      "source": [
        "\n",
        "---\n",
        "\n",
        "\n",
        "## **Correct Answers:**\n",
        "\n",
        "---\n",
        "\n"
      ],
      "metadata": {
        "id": "-kySw4Ux_Kaz"
      }
    },
    {
      "cell_type": "code",
      "source": [
        "#@title Correct answers for the 2 arm non-matrix version\n",
        "\"\"\"\n",
        "Correct answers for the 2 arm non-matrix version\n",
        "\"\"\"\n",
        "\n",
        "from ipywidgets import interact\n",
        "\n",
        "# Figure size\n",
        "plt.rcParams['figure.figsize'] = [16, 8]\n",
        "\n",
        "def plotMatrix(p):\n",
        "    # Plots x = xVal, y = yVal    so an uncolored circle for (xVal, yVal)\n",
        "    plt.scatter(p[0,:].tolist()[0],p[1,:].tolist()[0], s=30, facecolors='none', edgecolors='r')\n",
        "    plt.scatter(0,0, s=30, facecolors='r', edgecolors='r')\n",
        "    plt.plot(p[0,:].tolist()[0],p[1,:].tolist()[0])\n",
        "    #plt.axis('scaled')\n",
        "    plt.xlim([-10,10])\n",
        "    plt.ylim([-10,10])\n",
        "\n",
        "def Robot_Simulator(a1, a2):\n",
        "    a1_radians = a1/180  * np.pi\n",
        "    a2_radians = a2/180  * np.pi\n",
        "\n",
        "    # Arms Length\n",
        "    d1 = 4\n",
        "    d2 = 4\n",
        "\n",
        "    x1 = 4 * np.sin(a1_radians)\n",
        "    y1 = 4 * np.cos(a1_radians)\n",
        "\n",
        "    x2 = 4 * np.sin(a2_radians + a1_radians) + x1\n",
        "    y2 = 4 * np.cos(a2_radians + a1_radians) + y1\n",
        "\n",
        "    results = np.array([[x2, x1], [y2, y1]])\n",
        "    p = np.concatenate( (results, np.matrix([0,0]).T), axis=1 )\n",
        "\n",
        "    return plotMatrix(p)\n",
        "\n",
        "target = interact(Robot_Simulator, a1=(-180,180), a2=(-180,180))"
      ],
      "metadata": {
        "colab": {
          "base_uri": "https://localhost:8080/",
          "height": 551,
          "referenced_widgets": [
            "6d68c088274d4c65973b2e7fb20fcdd0",
            "c3140390cdb04a9d95fc7af2ce9c86c2",
            "3ddb7dabb90b401c8349d9652563ee17",
            "aa0b0833b4894e32a71739e8731c4511",
            "9661c407c94342ea9e0b199f1a8de4af",
            "139e995bc943473daf4f6b2548a07d14",
            "72205653596d4dec9cd8b6c80de26ea8",
            "f7dea744a8fb4f66869612a48843dcb5",
            "87d15451007042b69a2d72ed75a9994b",
            "aedd274b7c814a49bf3d24fea098080a"
          ]
        },
        "id": "JSH4gthF_gSt",
        "outputId": "3fea3b9f-eff5-4df2-a270-9909672b0b7d",
        "cellView": "form"
      },
      "execution_count": null,
      "outputs": [
        {
          "output_type": "display_data",
          "data": {
            "text/plain": [
              "interactive(children=(IntSlider(value=0, description='a1', max=180, min=-180), IntSlider(value=0, description=…"
            ],
            "application/vnd.jupyter.widget-view+json": {
              "version_major": 2,
              "version_minor": 0,
              "model_id": "6d68c088274d4c65973b2e7fb20fcdd0"
            }
          },
          "metadata": {}
        }
      ]
    },
    {
      "cell_type": "code",
      "source": [
        "#@title **Correct Answer for 2 arm matricies version** { display-mode: \"form\" }\n",
        "\n",
        "\"\"\"\n",
        "Correct answer for the 2 arm version\n",
        "\"\"\"\n",
        "\n",
        "from ipywidgets import interact\n",
        "\n",
        "# Figure size\n",
        "plt.rcParams['figure.figsize'] = [16, 8]\n",
        "\n",
        "def plotMatrix(p):\n",
        "    # Plots x = xVal, y = yVal    so an uncolored circle for (xVal, yVal)\n",
        "    plt.scatter(p[0,:].tolist()[0],p[1,:].tolist()[0], s=30, facecolors='none', edgecolors='r')\n",
        "    plt.scatter(0,0, s=30, facecolors='r', edgecolors='r')\n",
        "    plt.plot(p[0,:].tolist()[0],p[1,:].tolist()[0])\n",
        "    plt.axis('scaled')\n",
        "    plt.xlim([-10,10])\n",
        "    plt.ylim([-10,10])\n",
        "\n",
        "    #return\n",
        "\n",
        "def Robot_Simulator(a1, a2):\n",
        "    a1_radians = a1/180  * np.pi\n",
        "    a2_radians = a2/180  * np.pi\n",
        "\n",
        "    # Arms Initial position\n",
        "    d1 = np.matrix([0,4]).T\n",
        "    d2 = np.matrix([0,4]).T\n",
        "\n",
        "    # Rotation Matricies\n",
        "    R1 = np.matrix([[np.cos(a1_radians), -np.sin(a1_radians)],\n",
        "                    [np.sin(a1_radians),  np.cos(a1_radians)]])\n",
        "    # Rotate R2 by R1\n",
        "    R2 = R1 * np.matrix([[np.cos(a2_radians), -np.sin(a2_radians)],\n",
        "                         [np.sin(a2_radians),  np.cos(a2_radians)]])\n",
        "\n",
        "    # Resulting Positions:\n",
        "\n",
        "    # L1 is the lower arm location\n",
        "    L1 = R1 * d1\n",
        "    # L2 is the upper arm location\n",
        "    L2 = R2 * d2 + L1\n",
        "\n",
        "    p = np.concatenate( (L2, L1, np.matrix([0,0]).T), axis=1 )\n",
        "    return plotMatrix(p)\n",
        "\n",
        "target = interact(Robot_Simulator, a1=(-180,180), a2=(-180,180))"
      ],
      "metadata": {
        "colab": {
          "base_uri": "https://localhost:8080/",
          "height": 551,
          "referenced_widgets": [
            "5c287f9bc2f446f4af7e662924bb1d11",
            "585beb37a919456c8a8c182c354694ce",
            "6679b1dccadc46979275b771f8103ea2",
            "6868b177363f4114a8aa5f1b65358dfd",
            "77f7a9c5bfef4e4a9be1599a9cea593e",
            "fb7f96eb358049d7863ce80c19786a20",
            "68345a373a7e4e8485e16b8cd457eb59",
            "1c274a97414a44f887ca6a6075319a88",
            "8ad7fb40a6474b09a6fb0aeaf21ebc37",
            "4bfb22eee9cd445b9da83997f6638201"
          ]
        },
        "id": "R2kufnpW851q",
        "outputId": "c4a3ec5b-4ee1-4e30-e719-e517b6361fef"
      },
      "execution_count": null,
      "outputs": [
        {
          "output_type": "display_data",
          "data": {
            "text/plain": [
              "interactive(children=(IntSlider(value=0, description='a1', max=180, min=-180), IntSlider(value=0, description=…"
            ],
            "application/vnd.jupyter.widget-view+json": {
              "version_major": 2,
              "version_minor": 0,
              "model_id": "5c287f9bc2f446f4af7e662924bb1d11"
            }
          },
          "metadata": {}
        }
      ]
    },
    {
      "cell_type": "code",
      "source": [
        "#@title **Bonus: Code for 2 arm version w/ end effector** { display-mode: \"form\" }\n",
        "\n",
        "\"\"\"\n",
        "Correct answer for the 2 arm version with end effector\n",
        "\"\"\"\n",
        "\n",
        "from ipywidgets import interact\n",
        "\n",
        "def plotMatrix(p):\n",
        "    # Plots x = xVal, y = yVal    so an uncolored circle for (xVal, yVal)\n",
        "    plt.scatter(p[0,:].tolist()[0],p[1,:].tolist()[0], s=30, facecolors='none', edgecolors='r')\n",
        "    plt.scatter(0,0, s=30, facecolors='r', edgecolors='r')\n",
        "    plt.plot(p[0,:].tolist()[0],p[1,:].tolist()[0])\n",
        "    plt.axis('scaled')\n",
        "    plt.xlim([-12,12])\n",
        "    plt.ylim([-2,12])\n",
        "\n",
        "    return\n",
        "\n",
        "def Robot_Simulator(a1, a2, a_ee):\n",
        "    a1_radians = a1/180  * np.pi\n",
        "    a2_radians = a2/180  * np.pi\n",
        "    a_ee_rad = a_ee/180 * np.pi\n",
        "\n",
        "    # Arms Initial position\n",
        "    d1 = np.matrix([0,4]).T\n",
        "    d2 = np.matrix([0,4]).T\n",
        "    ee = np.matrix([[0, 0], [-1, 0], [-1, 2], [0, 0], [1, 0], [1, 2], [0, 0]]).T\n",
        "\n",
        "\n",
        "    # Rotation Matricies\n",
        "    R1 = np.matrix([[np.cos(a1_radians), -np.sin(a1_radians)],\n",
        "                    [np.sin(a1_radians),  np.cos(a1_radians)]])\n",
        "\n",
        "    R2 = R1 * np.matrix([[np.cos(a2_radians), -np.sin(a2_radians)],\n",
        "                    [np.sin(a2_radians),  np.cos(a2_radians)]])\n",
        "\n",
        "    R_ee = R1 * R2 * np.matrix([[np.cos(a_ee_rad), -np.sin(a_ee_rad)],\n",
        "                    [np.sin(a_ee_rad),  np.cos(a_ee_rad)]])\n",
        "\n",
        "\n",
        "\n",
        "    # Resulting\n",
        "    L1 = R1 * d1\n",
        "\n",
        "    L2 = R2 * d2 + L1\n",
        "\n",
        "    L_ee = R_ee * ee + L2\n",
        "\n",
        "    p = np.concatenate( (L_ee, L2, L1, np.matrix([0,0]).T), axis=1 )\n",
        "    return plotMatrix(p)\n",
        "\n",
        "target = interact(Robot_Simulator, a1=(-90,90), a2=(-90,90), a_ee=(-90, 90))"
      ],
      "metadata": {
        "colab": {
          "base_uri": "https://localhost:8080/",
          "height": 583,
          "referenced_widgets": [
            "5f3616bd5cd04a0e9db4fd864cd11d47",
            "fc24fae1648644799cea4152142a9c30",
            "98aa866d2ce443f68abe33aee1e9256f",
            "a3bd2e0167ff4775a6cb2472659006b1",
            "c0c27895aad241609ade66cf7dc5c6b4",
            "b711cfefa3a14cb5917820e50a4b15d0",
            "a2e1afd3a9d84eeb959d30b2ac65ef15",
            "d6d1760480094706a5d236c0e68eb7b4",
            "4be3a1695f46426c9f61b2f36395a68d",
            "43a8ca7f75a640fd9b216e983077ef9e",
            "6df263853cd54a79b29c7e5998c1b5ba",
            "7a489f0af38a4f808af4fce38ff23198",
            "7c101044406f4d15b892bc2bc0c733fa"
          ]
        },
        "id": "anQXcEt_9COf",
        "outputId": "af55487d-33f8-4cee-ece7-8e63993c6325"
      },
      "execution_count": null,
      "outputs": [
        {
          "output_type": "display_data",
          "data": {
            "text/plain": [
              "interactive(children=(IntSlider(value=0, description='a1', max=90, min=-90), IntSlider(value=0, description='a…"
            ],
            "application/vnd.jupyter.widget-view+json": {
              "version_major": 2,
              "version_minor": 0,
              "model_id": "5f3616bd5cd04a0e9db4fd864cd11d47"
            }
          },
          "metadata": {}
        }
      ]
    },
    {
      "cell_type": "code",
      "source": [],
      "metadata": {
        "id": "dq6r_2ay9ou5"
      },
      "execution_count": null,
      "outputs": []
    }
  ]
}